{
  "nbformat": 4,
  "nbformat_minor": 0,
  "metadata": {
    "colab": {
      "name": "Assignment2",
      "provenance": [],
      "collapsed_sections": [],
      "include_colab_link": true
    },
    "kernelspec": {
      "name": "python3",
      "display_name": "Python 3"
    }
  },
  "cells": [
    {
      "cell_type": "markdown",
      "metadata": {
        "id": "view-in-github",
        "colab_type": "text"
      },
      "source": [
        "<a href=\"https://colab.research.google.com/github/XinyaoTian/COMP5318_assignment2/blob/master/Assignment2.ipynb\" target=\"_parent\"><img src=\"https://colab.research.google.com/assets/colab-badge.svg\" alt=\"Open In Colab\"/></a>"
      ]
    },
    {
      "cell_type": "markdown",
      "metadata": {
        "id": "H0eP3e_PjUBJ",
        "colab_type": "text"
      },
      "source": [
        "# COMP5318 Assignment 2\n",
        "*Make sure you change the file name with your unikey*\n"
      ]
    },
    {
      "cell_type": "markdown",
      "metadata": {
        "id": "uHOuqG7PjhMp",
        "colab_type": "text"
      },
      "source": [
        "# 1. Data set up\n"
      ]
    },
    {
      "cell_type": "code",
      "metadata": {
        "id": "bRZmzMbxDmaC",
        "colab_type": "code",
        "colab": {}
      },
      "source": [
        "# Environment setup\n",
        "# Import assignment-wide packages\n",
        "import sklearn\n",
        "import numpy as np\n",
        "import os\n",
        "import pandas as pd\n",
        "np.random.seed(42)\n",
        "\n",
        "from random import uniform\n",
        "import math\n",
        "\n",
        "%matplotlib inline\n",
        "import matplotlib as mpl\n",
        "import matplotlib.pyplot as plt\n",
        "mpl.rc('axes', labelsize=14)\n",
        "mpl.rc('xtick', labelsize=12)\n",
        "mpl.rc('ytick', labelsize=12)\n",
        "\n",
        "import warnings\n",
        "warnings.filterwarnings(action=\"ignore\", message=\"^internal gelsd\")"
      ],
      "execution_count": 0,
      "outputs": []
    },
    {
      "cell_type": "code",
      "metadata": {
        "id": "l4EXStCecV_Z",
        "colab_type": "code",
        "colab": {}
      },
      "source": [
        "# import hierarchical clustering packages\n",
        "from sklearn.cluster import AgglomerativeClustering\n",
        "\n",
        "# import DBSCAN packages\n",
        "from sklearn.cluster import DBSCAN\n",
        "\n",
        "# import evaluation packages\n",
        "from sklearn.metrics import silhouette_score, silhouette_samples\n",
        "from sklearn.metrics import calinski_harabasz_score\n",
        "from sklearn.metrics import davies_bouldin_score"
      ],
      "execution_count": 0,
      "outputs": []
    },
    {
      "cell_type": "markdown",
      "metadata": {
        "id": "u8BNaD9dkIVa",
        "colab_type": "text"
      },
      "source": [
        "## 1.1 Load Data\n",
        "\n",
        "*Please upload both datasets (any file format is ok) to your google drive, and load the datasets through google drive file id in your code. If you want to use Jupyter, please submit all the dataset in an additional zip file.*\n",
        "\n"
      ]
    },
    {
      "cell_type": "code",
      "metadata": {
        "id": "hQGOpvvYi9f-",
        "colab_type": "code",
        "outputId": "a35edf85-2be4-44bd-e2d2-9f2abe9ab1f2",
        "colab": {
          "base_uri": "https://localhost:8080/",
          "height": 204
        }
      },
      "source": [
        "# Load TripAdviosr dataset from its original source\n",
        "TA_data = pd.read_csv(\"https://archive.ics.uci.edu/ml/machine-learning-databases/00484/tripadvisor_review.csv\", sep=',', encoding=\"utf-8\")\n",
        "\n",
        "# Have a brief view\n",
        "TA_data.head()"
      ],
      "execution_count": 3,
      "outputs": [
        {
          "output_type": "execute_result",
          "data": {
            "text/html": [
              "<div>\n",
              "<style scoped>\n",
              "    .dataframe tbody tr th:only-of-type {\n",
              "        vertical-align: middle;\n",
              "    }\n",
              "\n",
              "    .dataframe tbody tr th {\n",
              "        vertical-align: top;\n",
              "    }\n",
              "\n",
              "    .dataframe thead th {\n",
              "        text-align: right;\n",
              "    }\n",
              "</style>\n",
              "<table border=\"1\" class=\"dataframe\">\n",
              "  <thead>\n",
              "    <tr style=\"text-align: right;\">\n",
              "      <th></th>\n",
              "      <th>User ID</th>\n",
              "      <th>Category 1</th>\n",
              "      <th>Category 2</th>\n",
              "      <th>Category 3</th>\n",
              "      <th>Category 4</th>\n",
              "      <th>Category 5</th>\n",
              "      <th>Category 6</th>\n",
              "      <th>Category 7</th>\n",
              "      <th>Category 8</th>\n",
              "      <th>Category 9</th>\n",
              "      <th>Category 10</th>\n",
              "    </tr>\n",
              "  </thead>\n",
              "  <tbody>\n",
              "    <tr>\n",
              "      <th>0</th>\n",
              "      <td>User 1</td>\n",
              "      <td>0.93</td>\n",
              "      <td>1.8</td>\n",
              "      <td>2.29</td>\n",
              "      <td>0.62</td>\n",
              "      <td>0.80</td>\n",
              "      <td>2.42</td>\n",
              "      <td>3.19</td>\n",
              "      <td>2.79</td>\n",
              "      <td>1.82</td>\n",
              "      <td>2.42</td>\n",
              "    </tr>\n",
              "    <tr>\n",
              "      <th>1</th>\n",
              "      <td>User 2</td>\n",
              "      <td>1.02</td>\n",
              "      <td>2.2</td>\n",
              "      <td>2.66</td>\n",
              "      <td>0.64</td>\n",
              "      <td>1.42</td>\n",
              "      <td>3.18</td>\n",
              "      <td>3.21</td>\n",
              "      <td>2.63</td>\n",
              "      <td>1.86</td>\n",
              "      <td>2.32</td>\n",
              "    </tr>\n",
              "    <tr>\n",
              "      <th>2</th>\n",
              "      <td>User 3</td>\n",
              "      <td>1.22</td>\n",
              "      <td>0.8</td>\n",
              "      <td>0.54</td>\n",
              "      <td>0.53</td>\n",
              "      <td>0.24</td>\n",
              "      <td>1.54</td>\n",
              "      <td>3.18</td>\n",
              "      <td>2.80</td>\n",
              "      <td>1.31</td>\n",
              "      <td>2.50</td>\n",
              "    </tr>\n",
              "    <tr>\n",
              "      <th>3</th>\n",
              "      <td>User 4</td>\n",
              "      <td>0.45</td>\n",
              "      <td>1.8</td>\n",
              "      <td>0.29</td>\n",
              "      <td>0.57</td>\n",
              "      <td>0.46</td>\n",
              "      <td>1.52</td>\n",
              "      <td>3.18</td>\n",
              "      <td>2.96</td>\n",
              "      <td>1.57</td>\n",
              "      <td>2.86</td>\n",
              "    </tr>\n",
              "    <tr>\n",
              "      <th>4</th>\n",
              "      <td>User 5</td>\n",
              "      <td>0.51</td>\n",
              "      <td>1.2</td>\n",
              "      <td>1.18</td>\n",
              "      <td>0.57</td>\n",
              "      <td>1.54</td>\n",
              "      <td>2.02</td>\n",
              "      <td>3.18</td>\n",
              "      <td>2.78</td>\n",
              "      <td>1.18</td>\n",
              "      <td>2.54</td>\n",
              "    </tr>\n",
              "  </tbody>\n",
              "</table>\n",
              "</div>"
            ],
            "text/plain": [
              "  User ID  Category 1  Category 2  ...  Category 8  Category 9  Category 10\n",
              "0  User 1        0.93         1.8  ...        2.79        1.82         2.42\n",
              "1  User 2        1.02         2.2  ...        2.63        1.86         2.32\n",
              "2  User 3        1.22         0.8  ...        2.80        1.31         2.50\n",
              "3  User 4        0.45         1.8  ...        2.96        1.57         2.86\n",
              "4  User 5        0.51         1.2  ...        2.78        1.18         2.54\n",
              "\n",
              "[5 rows x 11 columns]"
            ]
          },
          "metadata": {
            "tags": []
          },
          "execution_count": 3
        }
      ]
    },
    {
      "cell_type": "code",
      "metadata": {
        "id": "90xDHw8RKjGQ",
        "colab_type": "code",
        "outputId": "e846d516-4c0b-4b93-cdb7-817d82a80c11",
        "colab": {
          "base_uri": "https://localhost:8080/",
          "height": 297
        }
      },
      "source": [
        "# Statistical Description\n",
        "TA_data.describe()"
      ],
      "execution_count": 4,
      "outputs": [
        {
          "output_type": "execute_result",
          "data": {
            "text/html": [
              "<div>\n",
              "<style scoped>\n",
              "    .dataframe tbody tr th:only-of-type {\n",
              "        vertical-align: middle;\n",
              "    }\n",
              "\n",
              "    .dataframe tbody tr th {\n",
              "        vertical-align: top;\n",
              "    }\n",
              "\n",
              "    .dataframe thead th {\n",
              "        text-align: right;\n",
              "    }\n",
              "</style>\n",
              "<table border=\"1\" class=\"dataframe\">\n",
              "  <thead>\n",
              "    <tr style=\"text-align: right;\">\n",
              "      <th></th>\n",
              "      <th>Category 1</th>\n",
              "      <th>Category 2</th>\n",
              "      <th>Category 3</th>\n",
              "      <th>Category 4</th>\n",
              "      <th>Category 5</th>\n",
              "      <th>Category 6</th>\n",
              "      <th>Category 7</th>\n",
              "      <th>Category 8</th>\n",
              "      <th>Category 9</th>\n",
              "      <th>Category 10</th>\n",
              "    </tr>\n",
              "  </thead>\n",
              "  <tbody>\n",
              "    <tr>\n",
              "      <th>count</th>\n",
              "      <td>980.000000</td>\n",
              "      <td>980.000000</td>\n",
              "      <td>980.000000</td>\n",
              "      <td>980.000000</td>\n",
              "      <td>980.000000</td>\n",
              "      <td>980.000000</td>\n",
              "      <td>980.000000</td>\n",
              "      <td>980.000000</td>\n",
              "      <td>980.000000</td>\n",
              "      <td>980.000000</td>\n",
              "    </tr>\n",
              "    <tr>\n",
              "      <th>mean</th>\n",
              "      <td>0.893194</td>\n",
              "      <td>1.352612</td>\n",
              "      <td>1.013306</td>\n",
              "      <td>0.532500</td>\n",
              "      <td>0.939735</td>\n",
              "      <td>1.842898</td>\n",
              "      <td>3.180939</td>\n",
              "      <td>2.835061</td>\n",
              "      <td>1.569439</td>\n",
              "      <td>2.799224</td>\n",
              "    </tr>\n",
              "    <tr>\n",
              "      <th>std</th>\n",
              "      <td>0.326912</td>\n",
              "      <td>0.478280</td>\n",
              "      <td>0.788607</td>\n",
              "      <td>0.279731</td>\n",
              "      <td>0.437430</td>\n",
              "      <td>0.539538</td>\n",
              "      <td>0.007824</td>\n",
              "      <td>0.137505</td>\n",
              "      <td>0.364629</td>\n",
              "      <td>0.321380</td>\n",
              "    </tr>\n",
              "    <tr>\n",
              "      <th>min</th>\n",
              "      <td>0.340000</td>\n",
              "      <td>0.000000</td>\n",
              "      <td>0.130000</td>\n",
              "      <td>0.150000</td>\n",
              "      <td>0.060000</td>\n",
              "      <td>0.140000</td>\n",
              "      <td>3.160000</td>\n",
              "      <td>2.420000</td>\n",
              "      <td>0.740000</td>\n",
              "      <td>2.140000</td>\n",
              "    </tr>\n",
              "    <tr>\n",
              "      <th>25%</th>\n",
              "      <td>0.670000</td>\n",
              "      <td>1.080000</td>\n",
              "      <td>0.270000</td>\n",
              "      <td>0.410000</td>\n",
              "      <td>0.640000</td>\n",
              "      <td>1.460000</td>\n",
              "      <td>3.180000</td>\n",
              "      <td>2.740000</td>\n",
              "      <td>1.310000</td>\n",
              "      <td>2.540000</td>\n",
              "    </tr>\n",
              "    <tr>\n",
              "      <th>50%</th>\n",
              "      <td>0.830000</td>\n",
              "      <td>1.280000</td>\n",
              "      <td>0.820000</td>\n",
              "      <td>0.500000</td>\n",
              "      <td>0.900000</td>\n",
              "      <td>1.800000</td>\n",
              "      <td>3.180000</td>\n",
              "      <td>2.820000</td>\n",
              "      <td>1.540000</td>\n",
              "      <td>2.780000</td>\n",
              "    </tr>\n",
              "    <tr>\n",
              "      <th>75%</th>\n",
              "      <td>1.020000</td>\n",
              "      <td>1.560000</td>\n",
              "      <td>1.572500</td>\n",
              "      <td>0.580000</td>\n",
              "      <td>1.200000</td>\n",
              "      <td>2.200000</td>\n",
              "      <td>3.180000</td>\n",
              "      <td>2.910000</td>\n",
              "      <td>1.760000</td>\n",
              "      <td>3.040000</td>\n",
              "    </tr>\n",
              "    <tr>\n",
              "      <th>max</th>\n",
              "      <td>3.220000</td>\n",
              "      <td>3.640000</td>\n",
              "      <td>3.620000</td>\n",
              "      <td>3.440000</td>\n",
              "      <td>3.300000</td>\n",
              "      <td>3.760000</td>\n",
              "      <td>3.210000</td>\n",
              "      <td>3.390000</td>\n",
              "      <td>3.170000</td>\n",
              "      <td>3.660000</td>\n",
              "    </tr>\n",
              "  </tbody>\n",
              "</table>\n",
              "</div>"
            ],
            "text/plain": [
              "       Category 1  Category 2  Category 3  ...  Category 8  Category 9  Category 10\n",
              "count  980.000000  980.000000  980.000000  ...  980.000000  980.000000   980.000000\n",
              "mean     0.893194    1.352612    1.013306  ...    2.835061    1.569439     2.799224\n",
              "std      0.326912    0.478280    0.788607  ...    0.137505    0.364629     0.321380\n",
              "min      0.340000    0.000000    0.130000  ...    2.420000    0.740000     2.140000\n",
              "25%      0.670000    1.080000    0.270000  ...    2.740000    1.310000     2.540000\n",
              "50%      0.830000    1.280000    0.820000  ...    2.820000    1.540000     2.780000\n",
              "75%      1.020000    1.560000    1.572500  ...    2.910000    1.760000     3.040000\n",
              "max      3.220000    3.640000    3.620000  ...    3.390000    3.170000     3.660000\n",
              "\n",
              "[8 rows x 10 columns]"
            ]
          },
          "metadata": {
            "tags": []
          },
          "execution_count": 4
        }
      ]
    },
    {
      "cell_type": "code",
      "metadata": {
        "id": "makDvaxQIZ1N",
        "colab_type": "code",
        "outputId": "9eed7f3d-9970-4a80-d767-f960aad995ab",
        "colab": {
          "base_uri": "https://localhost:8080/",
          "height": 204
        }
      },
      "source": [
        "# Load ICMLA papers dataset from its original source\n",
        "ICMLA_data = pd.read_csv(\"https://archive.ics.uci.edu/ml/machine-learning-databases/00434/ICMLA_2014.csv\", sep=',', encoding=\"ISO-8859-1\")\n",
        "\n",
        "# Also have a brief look\n",
        "ICMLA_data.head()"
      ],
      "execution_count": 5,
      "outputs": [
        {
          "output_type": "execute_result",
          "data": {
            "text/html": [
              "<div>\n",
              "<style scoped>\n",
              "    .dataframe tbody tr th:only-of-type {\n",
              "        vertical-align: middle;\n",
              "    }\n",
              "\n",
              "    .dataframe tbody tr th {\n",
              "        vertical-align: top;\n",
              "    }\n",
              "\n",
              "    .dataframe thead th {\n",
              "        text-align: right;\n",
              "    }\n",
              "</style>\n",
              "<table border=\"1\" class=\"dataframe\">\n",
              "  <thead>\n",
              "    <tr style=\"text-align: right;\">\n",
              "      <th></th>\n",
              "      <th>paper_id</th>\n",
              "      <th>paper_title</th>\n",
              "      <th>author_keywords</th>\n",
              "      <th>abstract</th>\n",
              "      <th>session</th>\n",
              "    </tr>\n",
              "  </thead>\n",
              "  <tbody>\n",
              "    <tr>\n",
              "      <th>0</th>\n",
              "      <td>1</td>\n",
              "      <td>Ensemble Statistical and Heuristic Models for ...</td>\n",
              "      <td>statistical word alignment, ensemble learning,...</td>\n",
              "      <td>Statistical word alignment models need large a...</td>\n",
              "      <td>Ensemble Methods</td>\n",
              "    </tr>\n",
              "    <tr>\n",
              "      <th>1</th>\n",
              "      <td>2</td>\n",
              "      <td>Improving Spectral Learning by Using Multiple ...</td>\n",
              "      <td>representation, spectral learning, discrete Fo...</td>\n",
              "      <td>Spectral learning algorithms learn an unknown ...</td>\n",
              "      <td>Ensemble Methods</td>\n",
              "    </tr>\n",
              "    <tr>\n",
              "      <th>2</th>\n",
              "      <td>3</td>\n",
              "      <td>Applying Swarm Ensemble Clustering Technique f...</td>\n",
              "      <td>Software defect prediction, Particle swarm opt...</td>\n",
              "      <td>Number of defects remaining in a system provid...</td>\n",
              "      <td>Ensemble Methods</td>\n",
              "    </tr>\n",
              "    <tr>\n",
              "      <th>3</th>\n",
              "      <td>4</td>\n",
              "      <td>Reducing the Effects of Detrimental Instances</td>\n",
              "      <td>filtering, label noise, instance weighting</td>\n",
              "      <td>Not all instances in a data set are equally be...</td>\n",
              "      <td>Ensemble Methods</td>\n",
              "    </tr>\n",
              "    <tr>\n",
              "      <th>4</th>\n",
              "      <td>5</td>\n",
              "      <td>Concept Drift Awareness in Twitter Streams</td>\n",
              "      <td>Twitter, Adaptation models, Time-frequency ana...</td>\n",
              "      <td>Learning in non-stationary environments is not...</td>\n",
              "      <td>Ensemble Methods</td>\n",
              "    </tr>\n",
              "  </tbody>\n",
              "</table>\n",
              "</div>"
            ],
            "text/plain": [
              "   paper_id  ...           session\n",
              "0         1  ...  Ensemble Methods\n",
              "1         2  ...  Ensemble Methods\n",
              "2         3  ...  Ensemble Methods\n",
              "3         4  ...  Ensemble Methods\n",
              "4         5  ...  Ensemble Methods\n",
              "\n",
              "[5 rows x 5 columns]"
            ]
          },
          "metadata": {
            "tags": []
          },
          "execution_count": 5
        }
      ]
    },
    {
      "cell_type": "code",
      "metadata": {
        "id": "4PfWdqlDHr7g",
        "colab_type": "code",
        "colab": {}
      },
      "source": [
        ""
      ],
      "execution_count": 0,
      "outputs": []
    },
    {
      "cell_type": "code",
      "metadata": {
        "id": "YQGBJiiEHs4E",
        "colab_type": "code",
        "colab": {}
      },
      "source": [
        ""
      ],
      "execution_count": 0,
      "outputs": []
    },
    {
      "cell_type": "code",
      "metadata": {
        "id": "FIumfXV-HtS1",
        "colab_type": "code",
        "colab": {}
      },
      "source": [
        ""
      ],
      "execution_count": 0,
      "outputs": []
    },
    {
      "cell_type": "markdown",
      "metadata": {
        "id": "N1ZBrzbdkQsK",
        "colab_type": "text"
      },
      "source": [
        "## 1.2 Data Preprocessing (optional)\n",
        "\n",
        "***You are required to show your data preprocessing methods for the two datasets (if necessary)***\n",
        "\n",
        "*You can apply different data preprocessing techniques in different data and clustering models if you need.*\n"
      ]
    },
    {
      "cell_type": "markdown",
      "metadata": {
        "id": "wLvOuLx-teLS",
        "colab_type": "text"
      },
      "source": [
        "### Travel Review Dataset"
      ]
    },
    {
      "cell_type": "code",
      "metadata": {
        "id": "ZlM6aGx3kTNH",
        "colab_type": "code",
        "outputId": "70731c26-c0ca-4d0a-d6b4-3aa2f4e86653",
        "colab": {
          "base_uri": "https://localhost:8080/",
          "height": 204
        }
      },
      "source": [
        "# Brief review the dataset\n",
        "TA_data.head()"
      ],
      "execution_count": 6,
      "outputs": [
        {
          "output_type": "execute_result",
          "data": {
            "text/html": [
              "<div>\n",
              "<style scoped>\n",
              "    .dataframe tbody tr th:only-of-type {\n",
              "        vertical-align: middle;\n",
              "    }\n",
              "\n",
              "    .dataframe tbody tr th {\n",
              "        vertical-align: top;\n",
              "    }\n",
              "\n",
              "    .dataframe thead th {\n",
              "        text-align: right;\n",
              "    }\n",
              "</style>\n",
              "<table border=\"1\" class=\"dataframe\">\n",
              "  <thead>\n",
              "    <tr style=\"text-align: right;\">\n",
              "      <th></th>\n",
              "      <th>User ID</th>\n",
              "      <th>Category 1</th>\n",
              "      <th>Category 2</th>\n",
              "      <th>Category 3</th>\n",
              "      <th>Category 4</th>\n",
              "      <th>Category 5</th>\n",
              "      <th>Category 6</th>\n",
              "      <th>Category 7</th>\n",
              "      <th>Category 8</th>\n",
              "      <th>Category 9</th>\n",
              "      <th>Category 10</th>\n",
              "    </tr>\n",
              "  </thead>\n",
              "  <tbody>\n",
              "    <tr>\n",
              "      <th>0</th>\n",
              "      <td>User 1</td>\n",
              "      <td>0.93</td>\n",
              "      <td>1.8</td>\n",
              "      <td>2.29</td>\n",
              "      <td>0.62</td>\n",
              "      <td>0.80</td>\n",
              "      <td>2.42</td>\n",
              "      <td>3.19</td>\n",
              "      <td>2.79</td>\n",
              "      <td>1.82</td>\n",
              "      <td>2.42</td>\n",
              "    </tr>\n",
              "    <tr>\n",
              "      <th>1</th>\n",
              "      <td>User 2</td>\n",
              "      <td>1.02</td>\n",
              "      <td>2.2</td>\n",
              "      <td>2.66</td>\n",
              "      <td>0.64</td>\n",
              "      <td>1.42</td>\n",
              "      <td>3.18</td>\n",
              "      <td>3.21</td>\n",
              "      <td>2.63</td>\n",
              "      <td>1.86</td>\n",
              "      <td>2.32</td>\n",
              "    </tr>\n",
              "    <tr>\n",
              "      <th>2</th>\n",
              "      <td>User 3</td>\n",
              "      <td>1.22</td>\n",
              "      <td>0.8</td>\n",
              "      <td>0.54</td>\n",
              "      <td>0.53</td>\n",
              "      <td>0.24</td>\n",
              "      <td>1.54</td>\n",
              "      <td>3.18</td>\n",
              "      <td>2.80</td>\n",
              "      <td>1.31</td>\n",
              "      <td>2.50</td>\n",
              "    </tr>\n",
              "    <tr>\n",
              "      <th>3</th>\n",
              "      <td>User 4</td>\n",
              "      <td>0.45</td>\n",
              "      <td>1.8</td>\n",
              "      <td>0.29</td>\n",
              "      <td>0.57</td>\n",
              "      <td>0.46</td>\n",
              "      <td>1.52</td>\n",
              "      <td>3.18</td>\n",
              "      <td>2.96</td>\n",
              "      <td>1.57</td>\n",
              "      <td>2.86</td>\n",
              "    </tr>\n",
              "    <tr>\n",
              "      <th>4</th>\n",
              "      <td>User 5</td>\n",
              "      <td>0.51</td>\n",
              "      <td>1.2</td>\n",
              "      <td>1.18</td>\n",
              "      <td>0.57</td>\n",
              "      <td>1.54</td>\n",
              "      <td>2.02</td>\n",
              "      <td>3.18</td>\n",
              "      <td>2.78</td>\n",
              "      <td>1.18</td>\n",
              "      <td>2.54</td>\n",
              "    </tr>\n",
              "  </tbody>\n",
              "</table>\n",
              "</div>"
            ],
            "text/plain": [
              "  User ID  Category 1  Category 2  ...  Category 8  Category 9  Category 10\n",
              "0  User 1        0.93         1.8  ...        2.79        1.82         2.42\n",
              "1  User 2        1.02         2.2  ...        2.63        1.86         2.32\n",
              "2  User 3        1.22         0.8  ...        2.80        1.31         2.50\n",
              "3  User 4        0.45         1.8  ...        2.96        1.57         2.86\n",
              "4  User 5        0.51         1.2  ...        2.78        1.18         2.54\n",
              "\n",
              "[5 rows x 11 columns]"
            ]
          },
          "metadata": {
            "tags": []
          },
          "execution_count": 6
        }
      ]
    },
    {
      "cell_type": "code",
      "metadata": {
        "id": "he0yMxypIll1",
        "colab_type": "code",
        "colab": {}
      },
      "source": [
        "# It's obviously that 'User ID' is not meaningful when clustering\n",
        "# So we delete that column\n",
        "TA_data = TA_data.drop('User ID', 1)"
      ],
      "execution_count": 0,
      "outputs": []
    },
    {
      "cell_type": "code",
      "metadata": {
        "id": "utRBOdKaIuDF",
        "colab_type": "code",
        "outputId": "2d0f9777-25be-472e-f048-299b27bad5b0",
        "colab": {
          "base_uri": "https://localhost:8080/",
          "height": 204
        }
      },
      "source": [
        "TA_data.head()"
      ],
      "execution_count": 8,
      "outputs": [
        {
          "output_type": "execute_result",
          "data": {
            "text/html": [
              "<div>\n",
              "<style scoped>\n",
              "    .dataframe tbody tr th:only-of-type {\n",
              "        vertical-align: middle;\n",
              "    }\n",
              "\n",
              "    .dataframe tbody tr th {\n",
              "        vertical-align: top;\n",
              "    }\n",
              "\n",
              "    .dataframe thead th {\n",
              "        text-align: right;\n",
              "    }\n",
              "</style>\n",
              "<table border=\"1\" class=\"dataframe\">\n",
              "  <thead>\n",
              "    <tr style=\"text-align: right;\">\n",
              "      <th></th>\n",
              "      <th>Category 1</th>\n",
              "      <th>Category 2</th>\n",
              "      <th>Category 3</th>\n",
              "      <th>Category 4</th>\n",
              "      <th>Category 5</th>\n",
              "      <th>Category 6</th>\n",
              "      <th>Category 7</th>\n",
              "      <th>Category 8</th>\n",
              "      <th>Category 9</th>\n",
              "      <th>Category 10</th>\n",
              "    </tr>\n",
              "  </thead>\n",
              "  <tbody>\n",
              "    <tr>\n",
              "      <th>0</th>\n",
              "      <td>0.93</td>\n",
              "      <td>1.8</td>\n",
              "      <td>2.29</td>\n",
              "      <td>0.62</td>\n",
              "      <td>0.80</td>\n",
              "      <td>2.42</td>\n",
              "      <td>3.19</td>\n",
              "      <td>2.79</td>\n",
              "      <td>1.82</td>\n",
              "      <td>2.42</td>\n",
              "    </tr>\n",
              "    <tr>\n",
              "      <th>1</th>\n",
              "      <td>1.02</td>\n",
              "      <td>2.2</td>\n",
              "      <td>2.66</td>\n",
              "      <td>0.64</td>\n",
              "      <td>1.42</td>\n",
              "      <td>3.18</td>\n",
              "      <td>3.21</td>\n",
              "      <td>2.63</td>\n",
              "      <td>1.86</td>\n",
              "      <td>2.32</td>\n",
              "    </tr>\n",
              "    <tr>\n",
              "      <th>2</th>\n",
              "      <td>1.22</td>\n",
              "      <td>0.8</td>\n",
              "      <td>0.54</td>\n",
              "      <td>0.53</td>\n",
              "      <td>0.24</td>\n",
              "      <td>1.54</td>\n",
              "      <td>3.18</td>\n",
              "      <td>2.80</td>\n",
              "      <td>1.31</td>\n",
              "      <td>2.50</td>\n",
              "    </tr>\n",
              "    <tr>\n",
              "      <th>3</th>\n",
              "      <td>0.45</td>\n",
              "      <td>1.8</td>\n",
              "      <td>0.29</td>\n",
              "      <td>0.57</td>\n",
              "      <td>0.46</td>\n",
              "      <td>1.52</td>\n",
              "      <td>3.18</td>\n",
              "      <td>2.96</td>\n",
              "      <td>1.57</td>\n",
              "      <td>2.86</td>\n",
              "    </tr>\n",
              "    <tr>\n",
              "      <th>4</th>\n",
              "      <td>0.51</td>\n",
              "      <td>1.2</td>\n",
              "      <td>1.18</td>\n",
              "      <td>0.57</td>\n",
              "      <td>1.54</td>\n",
              "      <td>2.02</td>\n",
              "      <td>3.18</td>\n",
              "      <td>2.78</td>\n",
              "      <td>1.18</td>\n",
              "      <td>2.54</td>\n",
              "    </tr>\n",
              "  </tbody>\n",
              "</table>\n",
              "</div>"
            ],
            "text/plain": [
              "   Category 1  Category 2  Category 3  ...  Category 8  Category 9  Category 10\n",
              "0        0.93         1.8        2.29  ...        2.79        1.82         2.42\n",
              "1        1.02         2.2        2.66  ...        2.63        1.86         2.32\n",
              "2        1.22         0.8        0.54  ...        2.80        1.31         2.50\n",
              "3        0.45         1.8        0.29  ...        2.96        1.57         2.86\n",
              "4        0.51         1.2        1.18  ...        2.78        1.18         2.54\n",
              "\n",
              "[5 rows x 10 columns]"
            ]
          },
          "metadata": {
            "tags": []
          },
          "execution_count": 8
        }
      ]
    },
    {
      "cell_type": "code",
      "metadata": {
        "id": "YGgbqUWhTU0V",
        "colab_type": "code",
        "outputId": "e0759556-4b97-47f9-9d37-d309408bff0c",
        "colab": {
          "base_uri": "https://localhost:8080/",
          "height": 204
        }
      },
      "source": [
        "TA_data.dtypes"
      ],
      "execution_count": 9,
      "outputs": [
        {
          "output_type": "execute_result",
          "data": {
            "text/plain": [
              "Category 1     float64\n",
              "Category 2     float64\n",
              "Category 3     float64\n",
              "Category 4     float64\n",
              "Category 5     float64\n",
              "Category 6     float64\n",
              "Category 7     float64\n",
              "Category 8     float64\n",
              "Category 9     float64\n",
              "Category 10    float64\n",
              "dtype: object"
            ]
          },
          "metadata": {
            "tags": []
          },
          "execution_count": 9
        }
      ]
    },
    {
      "cell_type": "markdown",
      "metadata": {
        "id": "ItHFfjgHtlPK",
        "colab_type": "text"
      },
      "source": [
        "### ICMLA Datasets"
      ]
    },
    {
      "cell_type": "code",
      "metadata": {
        "id": "6q36RToYtqI-",
        "colab_type": "code",
        "colab": {}
      },
      "source": [
        "# Please comment your code"
      ],
      "execution_count": 0,
      "outputs": []
    },
    {
      "cell_type": "markdown",
      "metadata": {
        "id": "PrXYjNj8ai0B",
        "colab_type": "text"
      },
      "source": [
        "### Classes and functions rebuild"
      ]
    },
    {
      "cell_type": "markdown",
      "metadata": {
        "id": "ZPmgl00ql_E7",
        "colab_type": "text"
      },
      "source": [
        "We designed a new class of gridsearch in order to meet the requirements of our assignment.\n",
        "\n",
        "The more concise and convenient the invocation, the more complicated the design behind it, and greater the effort as well.\n",
        "\n",
        " Just like the design of iPhone."
      ]
    },
    {
      "cell_type": "code",
      "metadata": {
        "id": "iL-6PjN2cE-2",
        "colab_type": "code",
        "colab": {}
      },
      "source": [
        "# K means clustering algorithm\n",
        "class KMeansClustering():\n",
        "\n",
        "  # initiate construction function\n",
        "  def __init__(self, k_numbers=1, similarity='euclidean', convergence_threshold = 0.01):\n",
        "    self.Data = None\n",
        "    self.k = k_numbers\n",
        "    self.similarity = similarity\n",
        "    self.centroids = None\n",
        "    self.DataDistributed = None\n",
        "    self.convergence_threshold = convergence_threshold\n",
        "    self.labels_ = None\n",
        "\n",
        "    # sub-process\n",
        "    self.centroids_iteration = list()\n",
        "    self.DataDistributed_iteration = list()\n",
        "    self.centroids_moving_distance = list()\n",
        "  \n",
        "\n",
        "  # initate k numbers of centroids\n",
        "  def generate_initial_centroids(self):\n",
        "    # automatically generate initial centroids\n",
        "    i = 0\n",
        "    centroids = list()\n",
        "    while(i < self.k):\n",
        "      centroid = dict()\n",
        "      for column in self.Data.columns:\n",
        "        # randomly generate a value in the range of column\n",
        "        centroid[column] = float(\"{:.4f}\".format(uniform(self.Data[column].min(0), self.Data[column].max(0))))\n",
        "      centroids.append(centroid)\n",
        "      i += 1\n",
        "    # after generating centroids\n",
        "    self.centroids = pd.DataFrame(centroids)\n",
        "    return self.centroids\n",
        "\n",
        "\n",
        "  # assign points to a cluster located by a centroid\n",
        "  def assign_points(self):\n",
        "    # create a list to store the closest distance\n",
        "    distance_list = list()\n",
        "    cluster_index = list()\n",
        "    # iteration of rows(each point) in dataset\n",
        "    for index_point, point in self.Data.iterrows():\n",
        "      closest_distance = -1\n",
        "      distributed_centroid = -1\n",
        "      # for each point, calculate the distance from it to a centroid\n",
        "      for index_centroid, centroid in self.centroids.iterrows():\n",
        "        # ------ select distance type ------#\n",
        "        # select distance type\n",
        "        if self.similarity == \"euclidean\":\n",
        "          distance = self.euclidean_distance(point, centroid)\n",
        "        elif self.similarity == \"manhattan\":\n",
        "          distance = self.manhattan_distance(point, centroid)\n",
        "        elif self.similarity == \"minkowski\":\n",
        "          distance = self.minkowski_distance(point, centroid)\n",
        "        elif self.similarity == \"cosine\":\n",
        "          distance = self.cosine_distance(point, centroid)\n",
        "        else:\n",
        "          # throw out a warning\n",
        "          distance = -1\n",
        "        # ------ -------------------- ------#\n",
        "        # judge if new distance is closer than existing one\n",
        "        if closest_distance == -1 or distance < closest_distance:\n",
        "          # if it's true then update distance\n",
        "          closest_distance = distance\n",
        "          distributed_centroid = index_centroid\n",
        "      # append distance to storeage list\n",
        "      distance_list.append(closest_distance)\n",
        "      cluster_index.append(distributed_centroid)\n",
        "    # Add the cloest distance as a column to Dataframe\n",
        "    # Using copy() to avoid build a pointer between Data and DataDistributed\n",
        "    self.DataDistributed = self.Data.copy()\n",
        "    self.DataDistributed['Distance'] = distance_list\n",
        "    self.DataDistributed['Cluster_index'] = cluster_index\n",
        "    return self.DataDistributed\n",
        "\n",
        "\n",
        "  # generate empty centroid data structure\n",
        "  def generate_empty_centroids(self):\n",
        "    # automatically generate initial centroids\n",
        "    i = 0\n",
        "    centroids = list()\n",
        "    while(i < self.k):\n",
        "      centroid = dict()\n",
        "      for column in self.Data.columns:\n",
        "        # randomly generate a value in the range of column\n",
        "        centroid[column] = float(0.0)\n",
        "      centroids.append(centroid)\n",
        "      i += 1\n",
        "    return pd.DataFrame(centroids)\n",
        "  \n",
        "\n",
        "  # recalculate the centroid\n",
        "  def recalculate_centroid(self):\n",
        "    # recalculate centroids groupby previous clusters\n",
        "    # avoid Cluster_index become a new index\n",
        "    new_centroids = self.DataDistributed.groupby(['Cluster_index'], as_index=False).mean().round(4)\n",
        "    # drop middle-process columns\n",
        "    self.centroids = new_centroids.drop('Cluster_index', 1).drop('Distance', 1)\n",
        "    return self.centroids\n",
        "  \n",
        "\n",
        "  # main process of the whole training\n",
        "  def fit(self, Data):\n",
        "    # save data to model\n",
        "    self.Data = Data\n",
        "\n",
        "    # randomly generate k centroids\n",
        "    self.generate_initial_centroids()\n",
        "    self.centroids_iteration.append(self.centroids.copy())\n",
        "    \n",
        "    convergence = False\n",
        "    # iterate until meet convergence condition\n",
        "    while convergence == False:\n",
        "      # assign points to these centroids\n",
        "      self.assign_points()\n",
        "      self.DataDistributed_iteration.append(self.DataDistributed.copy())\n",
        "      # take the previous centroids\n",
        "      previous_centroids = self.centroids.copy()\n",
        "      # recalculate the centroids\n",
        "      self.recalculate_centroid()\n",
        "      new_centroids = self.centroids.copy()\n",
        "      self.centroids_iteration.append(self.centroids.copy())\n",
        "\n",
        "      # judge if meeting convergence condition\n",
        "      centroids_movements = dict()\n",
        "      for index, centroid in self.centroids.iterrows():\n",
        "        convergence = True\n",
        "        # ------ select distance type ------#\n",
        "        if self.similarity == \"euclidean\":\n",
        "          centroid_movement = self.euclidean_distance(previous_centroids.iloc[index], new_centroids.iloc[index])\n",
        "        elif self.similarity == \"manhattan\":\n",
        "          centroid_movement = self.manhattan_distance(previous_centroids.iloc[index], new_centroids.iloc[index])\n",
        "        elif self.similarity == \"minkowski\":\n",
        "          centroid_movement = self.minkowski_distance(previous_centroids.iloc[index], new_centroids.iloc[index])\n",
        "        elif self.similarity == \"cosine\":\n",
        "          centroid_movement = self.cosine_distance(previous_centroids.iloc[index], new_centroids.iloc[index])\n",
        "        # ------ -------------------- ------#\n",
        "        centroids_movements[index] = centroid_movement\n",
        "        if centroid_movement >= self.convergence_threshold:\n",
        "          convergence = False\n",
        "      # record movement\n",
        "      self.centroids_moving_distance.append(centroids_movements)\n",
        "    self.labels_ = self.DataDistributed['Cluster_index'].to_numpy()\n",
        "    \n",
        "\n",
        "  # euclidean distance\n",
        "  def euclidean_distance(self, pointA, pointB):\n",
        "    sum_of_square = 0.0\n",
        "    for column in self.Data.columns:\n",
        "      sum_of_square += (pointA[column] - pointB[column])**2\n",
        "    euclidean_distance = math.sqrt(sum_of_square)\n",
        "    return float(\"{:.4f}\".format(euclidean_distance))\n",
        "\n",
        "\n",
        "  # manhattan distance\n",
        "  def manhattan_distance(self, pointA, pointB):\n",
        "    sum_of_abs = 0.0\n",
        "    for column in self.Data.columns:\n",
        "      sum_of_abs += abs(pointA[column] - pointB[column])\n",
        "    manhattan_distance = sum_of_abs\n",
        "    return float(\"{:.4f}\".format(manhattan_distance))\n",
        "\n",
        "\n",
        "  # Minkowski distance\n",
        "  def minkowski_distance(self, pointA, pointB):\n",
        "    # get degree of features\n",
        "    degree = len(self.Data.columns)\n",
        "    sum_of_poly_item = 0.0\n",
        "    for column in self.Data.columns:\n",
        "      sum_of_poly_item += pow(float(\"{:.4f}\".format(pointA[column] - pointB[column])), degree)\n",
        "    minkowski_distance = pow(sum_of_poly_item, 1/degree)\n",
        "    return float(\"{:.4f}\".format(minkowski_distance))\n",
        "  \n",
        "\n",
        "  # Cosine distance\n",
        "  def cosine_distance(self, pointA, pointB):\n",
        "    sum_of_dot_product = 0.0\n",
        "    sum_of_square_pointA = 0.0\n",
        "    sum_of_square_pointB = 0.0\n",
        "    for column in self.Data.columns:\n",
        "      sum_of_dot_product += pointA[column] * pointB[column]\n",
        "      sum_of_square_pointA += pow(pointA[column], 2)\n",
        "      sum_of_square_pointB += pow(pointB[column], 2)\n",
        "    norm_of_pointA = math.sqrt(sum_of_square_pointA)\n",
        "    norm_of_pointB = math.sqrt(sum_of_square_pointB)\n",
        "    cosine_distance = sum_of_dot_product / (norm_of_pointA * norm_of_pointB)\n",
        "    return float(\"{:.4f}\".format(cosine_distance))"
      ],
      "execution_count": 0,
      "outputs": []
    },
    {
      "cell_type": "code",
      "metadata": {
        "id": "8ACtB3OIcKnQ",
        "colab_type": "code",
        "colab": {}
      },
      "source": [
        "# write a new gridsearch class to handle our problem\n",
        "class GridSearch():\n",
        "\n",
        "  # class initiate\n",
        "  def __init__(self, cluster_type, param_grid, score_type):\n",
        "    self.Data = None\n",
        "    self.param_grid = param_grid\n",
        "    self.score_list = list()\n",
        "    self.cluster_type = cluster_type\n",
        "    self.score_type = score_type\n",
        "\n",
        "  # run all combinations of parameters\n",
        "  def fit(self, Data):\n",
        "    # load data\n",
        "    self.Data = Data\n",
        "    if self.cluster_type == 'AgglomerativeClustering':\n",
        "      self.__agglomerative_clustering()\n",
        "    elif self.cluster_type == 'DBSCAN':\n",
        "      self.__dbscan_clustering()\n",
        "    elif self.cluster_type == 'KMeansClustering':\n",
        "      self.__kmeans_clustering()\n",
        "    # return the result list\n",
        "    return \"Grid Search Completed. Plase use get_results() to get best param combination.\"\n",
        "\n",
        "\n",
        "  # KmeansClustering\n",
        "  def __kmeans_clustering(self):\n",
        "    # use all combinations of parameters to cluster\n",
        "    for k in self.param_grid['k_numbers']:\n",
        "      for similarity in self.param_grid['similarity']:\n",
        "        score_dict = dict()\n",
        "        # create new model using different params and evaluate through silouette score\n",
        "        kmeans_model = KMeansClustering(k_numbers=k, similarity=similarity, convergence_threshold=0.01)\n",
        "        kmeans_model.fit(self.Data)\n",
        "        labels = kmeans_model.labels_\n",
        "        # select different evaluation type\n",
        "        if self.score_type == 'silhouette_score':\n",
        "          # affinity of silhouette score should be consistent with similarity\n",
        "          score = silhouette_score(self.Data, labels, metric=similarity)\n",
        "        elif self.score_type == 'calinski_harabasz_score':\n",
        "          score = calinski_harabasz_score(self.Data, labels=labels)\n",
        "        elif self.score_type == 'davies_bouldin_score':\n",
        "          score = davies_bouldin_score(self.Data, labels=labels)\n",
        "        # save result to score_dict\n",
        "        score_dict['k_numbers'] = k\n",
        "        score_dict['similarity'] = similarity\n",
        "        score_dict['score_type'] = self.score_type\n",
        "        score_dict['score'] = score\n",
        "        self.score_list.append(score_dict)\n",
        "    # sorting the list by evaluation result\n",
        "    self.score_list.sort(reverse=True, key=self.__sort_metric)\n",
        "\n",
        "  \n",
        "  # DBSCAN\n",
        "  def __dbscan_clustering(self):\n",
        "    # use all combinations of parameters to cluster\n",
        "    for eps in self.param_grid['eps']:\n",
        "      for min_samples in self.param_grid['min_samples']:\n",
        "        for metric in self.param_grid['metric']:\n",
        "          score_dict = dict()\n",
        "          # create new model using different params and evaluate through silouette score\n",
        "          dbscan_model = DBSCAN(eps=eps, min_samples=min_samples, metric=metric)\n",
        "          dbscan_model.fit(self.Data)\n",
        "          labels = dbscan_model.labels_\n",
        "          # select different evaluation type\n",
        "          if self.score_type == 'silhouette_score':\n",
        "            # affinity of silhouette score should be consistent with similarity\n",
        "            score = silhouette_score(self.Data, labels, metric=metric)\n",
        "          elif self.score_type == 'calinski_harabasz_score':\n",
        "            score = calinski_harabasz_score(self.Data, labels=labels)\n",
        "          elif self.score_type == 'davies_bouldin_score':\n",
        "            score = davies_bouldin_score(self.Data, labels=labels)\n",
        "          # save result to score_dict\n",
        "          score_dict['eps'] = eps\n",
        "          score_dict['min_samples'] = min_samples\n",
        "          score_dict['metric'] = metric\n",
        "          score_dict['score_type'] = self.score_type\n",
        "          score_dict['score'] = score\n",
        "          self.score_list.append(score_dict)\n",
        "    # sorting the list by evaluation result\n",
        "    self.score_list.sort(reverse=True, key=self.__sort_metric)\n",
        "  \n",
        "  \n",
        "  # AgglomerativeClustering\n",
        "  def __agglomerative_clustering(self):\n",
        "    # use all combinations of parameters to cluster\n",
        "    for n_clusters in self.param_grid['n_clusters']:\n",
        "      for linkage in self.param_grid['linkage']:\n",
        "        for affinity in self.param_grid['affinity']:\n",
        "          score_dict = dict()\n",
        "          # create new model using different params and evaluate through silouette score\n",
        "          hierarchical_model = AgglomerativeClustering(n_clusters=n_clusters, affinity=affinity, linkage=linkage)\n",
        "          hierarchical_model.fit(self.Data)\n",
        "          labels = hierarchical_model.labels_\n",
        "          # select different evaluation type\n",
        "          if self.score_type == 'silhouette_score':\n",
        "            # affinity of silhouette score should be consistent with similarity\n",
        "            score = silhouette_score(self.Data, labels, metric=affinity)\n",
        "          elif self.score_type == 'calinski_harabasz_score':\n",
        "            score = calinski_harabasz_score(self.Data, labels=labels)\n",
        "          elif self.score_type == 'davies_bouldin_score':\n",
        "            score = davies_bouldin_score(self.Data, labels=labels)\n",
        "          # save result to score_dict\n",
        "          score_dict['n_clusters'] = n_clusters\n",
        "          score_dict['linkage'] = linkage\n",
        "          score_dict['affinity'] = affinity\n",
        "          score_dict['score_type'] = self.score_type\n",
        "          score_dict['score'] = score\n",
        "          self.score_list.append(score_dict)\n",
        "    # sorting the list by evaluation result\n",
        "    self.score_list.sort(reverse=True, key=self.__sort_metric)\n",
        "\n",
        "  \n",
        "  def get_param_grid(self):\n",
        "    return self.param_grid\n",
        "\n",
        "  # get param combination with best score\n",
        "  def get_best_param(self):\n",
        "    return self.score_list[0]\n",
        "\n",
        "  # get all results\n",
        "  def get_results(self):\n",
        "    return self.score_list\n",
        "\n",
        "  def __sort_metric(self, score_dict):\n",
        "    return score_dict['score']\n"
      ],
      "execution_count": 0,
      "outputs": []
    },
    {
      "cell_type": "code",
      "metadata": {
        "id": "1lW-lh1U_l-_",
        "colab_type": "code",
        "colab": {
          "base_uri": "https://localhost:8080/",
          "height": 34
        },
        "outputId": "d4884eb1-ab3a-4c67-b4b8-9d0e6e246654"
      },
      "source": [
        "kmeans_model = KMeansClustering(k_numbers=2 , similarity='manhattan')\n",
        "kmeans_model.fit(TA_data)\n",
        "labels = kmeans_model.labels_\n",
        "score = silhouette_score(TA_data, labels, metric='euclidean')\n",
        "score"
      ],
      "execution_count": 51,
      "outputs": [
        {
          "output_type": "execute_result",
          "data": {
            "text/plain": [
              "0.29483116522411845"
            ]
          },
          "metadata": {
            "tags": []
          },
          "execution_count": 51
        }
      ]
    },
    {
      "cell_type": "code",
      "metadata": {
        "id": "kdQLVL3RlC_x",
        "colab_type": "code",
        "colab": {}
      },
      "source": [
        "# Set parameter pairs\n",
        "\n",
        "parameters_kmeans = {\n",
        "    'k_numbers': [2],\n",
        "    'similarity': ['euclidean', 'manhattan'],\n",
        "}"
      ],
      "execution_count": 0,
      "outputs": []
    },
    {
      "cell_type": "code",
      "metadata": {
        "id": "qYl2cRGXigwZ",
        "colab_type": "code",
        "colab": {
          "base_uri": "https://localhost:8080/",
          "height": 34
        },
        "outputId": "ac722077-549e-44a6-cc67-e0bb1d302f15"
      },
      "source": [
        "# initiate our new-written gridsearch class using silhouette_score\n",
        "gridsearch_model = GridSearch(\n",
        "    'KMeansClustering', \n",
        "    parameters_kmeans,\n",
        "    'silhouette_score')\n",
        "\n",
        "# fit with Travel Advisor dataset\n",
        "gridsearch_model.fit(TA_data)"
      ],
      "execution_count": 53,
      "outputs": [
        {
          "output_type": "execute_result",
          "data": {
            "text/plain": [
              "'Grid Search Completed. Plase use get_results() to get best param combination.'"
            ]
          },
          "metadata": {
            "tags": []
          },
          "execution_count": 53
        }
      ]
    },
    {
      "cell_type": "code",
      "metadata": {
        "id": "K5RfOdwUlaz2",
        "colab_type": "code",
        "colab": {
          "base_uri": "https://localhost:8080/",
          "height": 85
        },
        "outputId": "a764b21f-d804-4fcb-f649-f97c8b99d4fc"
      },
      "source": [
        "gridsearch_model.get_best_param()"
      ],
      "execution_count": 49,
      "outputs": [
        {
          "output_type": "execute_result",
          "data": {
            "text/plain": [
              "{'k_numbers': 2,\n",
              " 'score': 0.300883545621953,\n",
              " 'score_type': 'silhouette_score',\n",
              " 'similarity': 'euclidean'}"
            ]
          },
          "metadata": {
            "tags": []
          },
          "execution_count": 49
        }
      ]
    },
    {
      "cell_type": "code",
      "metadata": {
        "id": "2F5e5GkIh8x2",
        "colab_type": "code",
        "colab": {
          "base_uri": "https://localhost:8080/",
          "height": 51
        },
        "outputId": "fe5b8853-9c81-4eef-935b-93a178c45878"
      },
      "source": [
        "parameters_dbscan = {\n",
        "    'eps': [0.001, 0.01, 0.1, 0.5, 1, 5],\n",
        "    'min_samples': [3, 5, 8, 10],\n",
        "    'metric': ['euclidean', 'manhattan']\n",
        "}\n",
        "\n",
        "dbscan_model = DBSCAN(eps=3, min_samples=5, metric='euclidean')\n",
        "dbscan_model.fit(TA_data)\n",
        "# dbscan_model.labels_"
      ],
      "execution_count": 16,
      "outputs": [
        {
          "output_type": "execute_result",
          "data": {
            "text/plain": [
              "DBSCAN(algorithm='auto', eps=3, leaf_size=30, metric='euclidean',\n",
              "       metric_params=None, min_samples=5, n_jobs=None, p=None)"
            ]
          },
          "metadata": {
            "tags": []
          },
          "execution_count": 16
        }
      ]
    },
    {
      "cell_type": "markdown",
      "metadata": {
        "id": "F-3XiApgk3sA",
        "colab_type": "text"
      },
      "source": [
        "\n",
        "\n",
        "---\n",
        "\n",
        "\n",
        "# 2. K-means Clustering"
      ]
    },
    {
      "cell_type": "markdown",
      "metadata": {
        "id": "hxAng4yft0nA",
        "colab_type": "text"
      },
      "source": [
        "## 2.1 Travel Review Dataset"
      ]
    },
    {
      "cell_type": "code",
      "metadata": {
        "id": "2w5G_aKFKIOp",
        "colab_type": "code",
        "colab": {}
      },
      "source": [
        "# Set parameter pairs\n",
        "\n",
        "parameters_kmeans = {\n",
        "    'k_numbers': [2],\n",
        "    'similarity': ['euclidean', 'manhattan'],\n",
        "}"
      ],
      "execution_count": 0,
      "outputs": []
    },
    {
      "cell_type": "code",
      "metadata": {
        "id": "2xqnGvzIX0lD",
        "colab_type": "code",
        "colab": {
          "base_uri": "https://localhost:8080/",
          "height": 851
        },
        "outputId": "30c6e6dd-dc33-4d3d-cc35-8293e439ead1"
      },
      "source": [
        "# initiate our new-written gridsearch class using silhouette_score\n",
        "gridsearch_model = GridSearch(\n",
        "    'KMeansClustering', \n",
        "    parameters_kmeans,\n",
        "    'silhouette_score')\n",
        "\n",
        "# fit with Travel Advisor dataset\n",
        "gridsearch_model.fit(TA_data)\n",
        "\n",
        "  "
      ],
      "execution_count": 20,
      "outputs": [
        {
          "output_type": "error",
          "ename": "ValueError",
          "evalue": "ignored",
          "traceback": [
            "\u001b[0;31m---------------------------------------------------------------------------\u001b[0m",
            "\u001b[0;31mValueError\u001b[0m                                Traceback (most recent call last)",
            "\u001b[0;32m<ipython-input-20-e8c65f76c0fb>\u001b[0m in \u001b[0;36m<module>\u001b[0;34m()\u001b[0m\n\u001b[1;32m      6\u001b[0m \u001b[0;34m\u001b[0m\u001b[0m\n\u001b[1;32m      7\u001b[0m \u001b[0;31m# fit with Travel Advisor dataset\u001b[0m\u001b[0;34m\u001b[0m\u001b[0;34m\u001b[0m\u001b[0;34m\u001b[0m\u001b[0m\n\u001b[0;32m----> 8\u001b[0;31m \u001b[0mgridsearch_model\u001b[0m\u001b[0;34m.\u001b[0m\u001b[0mfit\u001b[0m\u001b[0;34m(\u001b[0m\u001b[0mTA_data\u001b[0m\u001b[0;34m)\u001b[0m\u001b[0;34m\u001b[0m\u001b[0;34m\u001b[0m\u001b[0m\n\u001b[0m\u001b[1;32m      9\u001b[0m \u001b[0;34m\u001b[0m\u001b[0m\n\u001b[1;32m     10\u001b[0m \u001b[0;34m\u001b[0m\u001b[0m\n",
            "\u001b[0;32m<ipython-input-12-9cb39669614e>\u001b[0m in \u001b[0;36mfit\u001b[0;34m(self, Data)\u001b[0m\n\u001b[1;32m     19\u001b[0m       \u001b[0mself\u001b[0m\u001b[0;34m.\u001b[0m\u001b[0m__dbscan_clustering\u001b[0m\u001b[0;34m(\u001b[0m\u001b[0;34m)\u001b[0m\u001b[0;34m\u001b[0m\u001b[0;34m\u001b[0m\u001b[0m\n\u001b[1;32m     20\u001b[0m     \u001b[0;32melif\u001b[0m \u001b[0mself\u001b[0m\u001b[0;34m.\u001b[0m\u001b[0mcluster_type\u001b[0m \u001b[0;34m==\u001b[0m \u001b[0;34m'KMeansClustering'\u001b[0m\u001b[0;34m:\u001b[0m\u001b[0;34m\u001b[0m\u001b[0;34m\u001b[0m\u001b[0m\n\u001b[0;32m---> 21\u001b[0;31m       \u001b[0mself\u001b[0m\u001b[0;34m.\u001b[0m\u001b[0m__kmeans_clustering\u001b[0m\u001b[0;34m(\u001b[0m\u001b[0;34m)\u001b[0m\u001b[0;34m\u001b[0m\u001b[0;34m\u001b[0m\u001b[0m\n\u001b[0m\u001b[1;32m     22\u001b[0m     \u001b[0;31m# return the result list\u001b[0m\u001b[0;34m\u001b[0m\u001b[0;34m\u001b[0m\u001b[0;34m\u001b[0m\u001b[0m\n\u001b[1;32m     23\u001b[0m     \u001b[0;32mreturn\u001b[0m \u001b[0;34m\"Grid Search Completed. Plase use get_results() to get best param combination.\"\u001b[0m\u001b[0;34m\u001b[0m\u001b[0;34m\u001b[0m\u001b[0m\n",
            "\u001b[0;32m<ipython-input-12-9cb39669614e>\u001b[0m in \u001b[0;36m__kmeans_clustering\u001b[0;34m(self)\u001b[0m\n\u001b[1;32m     37\u001b[0m         \u001b[0;32mif\u001b[0m \u001b[0mself\u001b[0m\u001b[0;34m.\u001b[0m\u001b[0mscore_type\u001b[0m \u001b[0;34m==\u001b[0m \u001b[0;34m'silhouette_score'\u001b[0m\u001b[0;34m:\u001b[0m\u001b[0;34m\u001b[0m\u001b[0;34m\u001b[0m\u001b[0m\n\u001b[1;32m     38\u001b[0m           \u001b[0;31m# affinity of silhouette score should be consistent with similarity\u001b[0m\u001b[0;34m\u001b[0m\u001b[0;34m\u001b[0m\u001b[0;34m\u001b[0m\u001b[0m\n\u001b[0;32m---> 39\u001b[0;31m           \u001b[0mscore\u001b[0m \u001b[0;34m=\u001b[0m \u001b[0msilhouette_score\u001b[0m\u001b[0;34m(\u001b[0m\u001b[0mself\u001b[0m\u001b[0;34m.\u001b[0m\u001b[0mData\u001b[0m\u001b[0;34m,\u001b[0m \u001b[0mlabels\u001b[0m\u001b[0;34m,\u001b[0m \u001b[0mmetric\u001b[0m\u001b[0;34m=\u001b[0m\u001b[0msimilarity\u001b[0m\u001b[0;34m)\u001b[0m\u001b[0;34m\u001b[0m\u001b[0;34m\u001b[0m\u001b[0m\n\u001b[0m\u001b[1;32m     40\u001b[0m         \u001b[0;32melif\u001b[0m \u001b[0mself\u001b[0m\u001b[0;34m.\u001b[0m\u001b[0mscore_type\u001b[0m \u001b[0;34m==\u001b[0m \u001b[0;34m'calinski_harabasz_score'\u001b[0m\u001b[0;34m:\u001b[0m\u001b[0;34m\u001b[0m\u001b[0;34m\u001b[0m\u001b[0m\n\u001b[1;32m     41\u001b[0m           \u001b[0mscore\u001b[0m \u001b[0;34m=\u001b[0m \u001b[0mcalinski_harabasz_score\u001b[0m\u001b[0;34m(\u001b[0m\u001b[0mself\u001b[0m\u001b[0;34m.\u001b[0m\u001b[0mData\u001b[0m\u001b[0;34m,\u001b[0m \u001b[0mlabels\u001b[0m\u001b[0;34m=\u001b[0m\u001b[0mlabels\u001b[0m\u001b[0;34m)\u001b[0m\u001b[0;34m\u001b[0m\u001b[0;34m\u001b[0m\u001b[0m\n",
            "\u001b[0;32m/usr/local/lib/python3.6/dist-packages/sklearn/metrics/cluster/_unsupervised.py\u001b[0m in \u001b[0;36msilhouette_score\u001b[0;34m(X, labels, metric, sample_size, random_state, **kwds)\u001b[0m\n\u001b[1;32m    115\u001b[0m         \u001b[0;32melse\u001b[0m\u001b[0;34m:\u001b[0m\u001b[0;34m\u001b[0m\u001b[0;34m\u001b[0m\u001b[0m\n\u001b[1;32m    116\u001b[0m             \u001b[0mX\u001b[0m\u001b[0;34m,\u001b[0m \u001b[0mlabels\u001b[0m \u001b[0;34m=\u001b[0m \u001b[0mX\u001b[0m\u001b[0;34m[\u001b[0m\u001b[0mindices\u001b[0m\u001b[0;34m]\u001b[0m\u001b[0;34m,\u001b[0m \u001b[0mlabels\u001b[0m\u001b[0;34m[\u001b[0m\u001b[0mindices\u001b[0m\u001b[0;34m]\u001b[0m\u001b[0;34m\u001b[0m\u001b[0;34m\u001b[0m\u001b[0m\n\u001b[0;32m--> 117\u001b[0;31m     \u001b[0;32mreturn\u001b[0m \u001b[0mnp\u001b[0m\u001b[0;34m.\u001b[0m\u001b[0mmean\u001b[0m\u001b[0;34m(\u001b[0m\u001b[0msilhouette_samples\u001b[0m\u001b[0;34m(\u001b[0m\u001b[0mX\u001b[0m\u001b[0;34m,\u001b[0m \u001b[0mlabels\u001b[0m\u001b[0;34m,\u001b[0m \u001b[0mmetric\u001b[0m\u001b[0;34m=\u001b[0m\u001b[0mmetric\u001b[0m\u001b[0;34m,\u001b[0m \u001b[0;34m**\u001b[0m\u001b[0mkwds\u001b[0m\u001b[0;34m)\u001b[0m\u001b[0;34m)\u001b[0m\u001b[0;34m\u001b[0m\u001b[0;34m\u001b[0m\u001b[0m\n\u001b[0m\u001b[1;32m    118\u001b[0m \u001b[0;34m\u001b[0m\u001b[0m\n\u001b[1;32m    119\u001b[0m \u001b[0;34m\u001b[0m\u001b[0m\n",
            "\u001b[0;32m/usr/local/lib/python3.6/dist-packages/sklearn/metrics/cluster/_unsupervised.py\u001b[0m in \u001b[0;36msilhouette_samples\u001b[0;34m(X, labels, metric, **kwds)\u001b[0m\n\u001b[1;32m    226\u001b[0m     \u001b[0mn_samples\u001b[0m \u001b[0;34m=\u001b[0m \u001b[0mlen\u001b[0m\u001b[0;34m(\u001b[0m\u001b[0mlabels\u001b[0m\u001b[0;34m)\u001b[0m\u001b[0;34m\u001b[0m\u001b[0;34m\u001b[0m\u001b[0m\n\u001b[1;32m    227\u001b[0m     \u001b[0mlabel_freqs\u001b[0m \u001b[0;34m=\u001b[0m \u001b[0mnp\u001b[0m\u001b[0;34m.\u001b[0m\u001b[0mbincount\u001b[0m\u001b[0;34m(\u001b[0m\u001b[0mlabels\u001b[0m\u001b[0;34m)\u001b[0m\u001b[0;34m\u001b[0m\u001b[0;34m\u001b[0m\u001b[0m\n\u001b[0;32m--> 228\u001b[0;31m     \u001b[0mcheck_number_of_labels\u001b[0m\u001b[0;34m(\u001b[0m\u001b[0mlen\u001b[0m\u001b[0;34m(\u001b[0m\u001b[0mle\u001b[0m\u001b[0;34m.\u001b[0m\u001b[0mclasses_\u001b[0m\u001b[0;34m)\u001b[0m\u001b[0;34m,\u001b[0m \u001b[0mn_samples\u001b[0m\u001b[0;34m)\u001b[0m\u001b[0;34m\u001b[0m\u001b[0;34m\u001b[0m\u001b[0m\n\u001b[0m\u001b[1;32m    229\u001b[0m \u001b[0;34m\u001b[0m\u001b[0m\n\u001b[1;32m    230\u001b[0m     \u001b[0mkwds\u001b[0m\u001b[0;34m[\u001b[0m\u001b[0;34m'metric'\u001b[0m\u001b[0;34m]\u001b[0m \u001b[0;34m=\u001b[0m \u001b[0mmetric\u001b[0m\u001b[0;34m\u001b[0m\u001b[0;34m\u001b[0m\u001b[0m\n",
            "\u001b[0;32m/usr/local/lib/python3.6/dist-packages/sklearn/metrics/cluster/_unsupervised.py\u001b[0m in \u001b[0;36mcheck_number_of_labels\u001b[0;34m(n_labels, n_samples)\u001b[0m\n\u001b[1;32m     33\u001b[0m     \u001b[0;32mif\u001b[0m \u001b[0;32mnot\u001b[0m \u001b[0;36m1\u001b[0m \u001b[0;34m<\u001b[0m \u001b[0mn_labels\u001b[0m \u001b[0;34m<\u001b[0m \u001b[0mn_samples\u001b[0m\u001b[0;34m:\u001b[0m\u001b[0;34m\u001b[0m\u001b[0;34m\u001b[0m\u001b[0m\n\u001b[1;32m     34\u001b[0m         raise ValueError(\"Number of labels is %d. Valid values are 2 \"\n\u001b[0;32m---> 35\u001b[0;31m                          \"to n_samples - 1 (inclusive)\" % n_labels)\n\u001b[0m\u001b[1;32m     36\u001b[0m \u001b[0;34m\u001b[0m\u001b[0m\n\u001b[1;32m     37\u001b[0m \u001b[0;34m\u001b[0m\u001b[0m\n",
            "\u001b[0;31mValueError\u001b[0m: Number of labels is 1. Valid values are 2 to n_samples - 1 (inclusive)"
          ]
        }
      ]
    },
    {
      "cell_type": "code",
      "metadata": {
        "id": "xx_Vje6bfx_x",
        "colab_type": "code",
        "colab": {
          "base_uri": "https://localhost:8080/",
          "height": 85
        },
        "outputId": "e42f0e32-5c76-40fd-8fc6-1b0497227715"
      },
      "source": [
        "gridsearch_model.get_best_param()"
      ],
      "execution_count": 21,
      "outputs": [
        {
          "output_type": "execute_result",
          "data": {
            "text/plain": [
              "{'k_numbers': 2,\n",
              " 'score': 0.30085279300986595,\n",
              " 'score_type': 'silhouette_score',\n",
              " 'similarity': 'euclidean'}"
            ]
          },
          "metadata": {
            "tags": []
          },
          "execution_count": 21
        }
      ]
    },
    {
      "cell_type": "markdown",
      "metadata": {
        "id": "WgV8ZaHalV5D",
        "colab_type": "text"
      },
      "source": [
        "### Train K-means clustering"
      ]
    },
    {
      "cell_type": "code",
      "metadata": {
        "id": "_xe1PEGhPd6z",
        "colab_type": "code",
        "colab": {}
      },
      "source": [
        ""
      ],
      "execution_count": 0,
      "outputs": []
    },
    {
      "cell_type": "code",
      "metadata": {
        "id": "a5iBgaSiMz6B",
        "colab_type": "code",
        "colab": {}
      },
      "source": [
        ""
      ],
      "execution_count": 0,
      "outputs": []
    },
    {
      "cell_type": "markdown",
      "metadata": {
        "id": "VLaxMNFYlxUR",
        "colab_type": "text"
      },
      "source": [
        "### First evaluation "
      ]
    },
    {
      "cell_type": "code",
      "metadata": {
        "id": "hiOAurVPluWC",
        "colab_type": "code",
        "colab": {}
      },
      "source": [
        "# Please comment your code\n",
        "\n",
        "kmeans_per_k = [KMeans(n_clusters=k, random_state=42).fit(TA_data)\n",
        "                for k in range(1, 10)]\n",
        "inertias = [model.inertia_ for model in kmeans_per_k]\n",
        "\n",
        "\n"
      ],
      "execution_count": 0,
      "outputs": []
    },
    {
      "cell_type": "code",
      "metadata": {
        "id": "85sAlQeINplZ",
        "colab_type": "code",
        "outputId": "f61e80fd-3e09-4a84-eac3-f233fc10e441",
        "colab": {
          "base_uri": "https://localhost:8080/",
          "height": 265
        }
      },
      "source": [
        "plt.figure(figsize=(8, 3.5))\n",
        "plt.plot(range(1, 10), inertias, \"bo-\")\n",
        "plt.xlabel(\"$k$\", fontsize=14)\n",
        "plt.ylabel(\"Inertia\", fontsize=14)\n",
        "plt.annotate('Elbow',\n",
        "             xy=(2, inertias[1]),\n",
        "             xytext=(0.15, 0.35),\n",
        "             textcoords='figure fraction',\n",
        "             fontsize=16,\n",
        "             arrowprops=dict(facecolor='black', shrink=0.1)\n",
        "            )\n",
        "plt.axis([1, 8.5, 0, 2000])\n",
        "plt.show()"
      ],
      "execution_count": 0,
      "outputs": [
        {
          "output_type": "display_data",
          "data": {
            "image/png": "[encoded data removed]",
            "text/plain": [
              "<Figure size 576x252 with 1 Axes>"
            ]
          },
          "metadata": {
            "tags": [],
            "needs_background": "light"
          }
        }
      ]
    },
    {
      "cell_type": "markdown",
      "metadata": {
        "id": "XrItLpXPlk15",
        "colab_type": "text"
      },
      "source": [
        "### Second evaluation "
      ]
    },
    {
      "cell_type": "code",
      "metadata": {
        "id": "yGE6IWzxmHA1",
        "colab_type": "code",
        "colab": {}
      },
      "source": [
        "# Please comment your code"
      ],
      "execution_count": 0,
      "outputs": []
    },
    {
      "cell_type": "markdown",
      "metadata": {
        "id": "o-dhDS0cuYGI",
        "colab_type": "text"
      },
      "source": [
        "## 2.2 ICMLA Dataset"
      ]
    },
    {
      "cell_type": "markdown",
      "metadata": {
        "id": "Shyegx-9ufUI",
        "colab_type": "text"
      },
      "source": [
        "### Train K-means clustering"
      ]
    },
    {
      "cell_type": "code",
      "metadata": {
        "id": "HpU01y33uinO",
        "colab_type": "code",
        "colab": {}
      },
      "source": [
        "# Please comment your code"
      ],
      "execution_count": 0,
      "outputs": []
    },
    {
      "cell_type": "markdown",
      "metadata": {
        "id": "y-iD8b9bulEZ",
        "colab_type": "text"
      },
      "source": [
        "### First evaluation"
      ]
    },
    {
      "cell_type": "code",
      "metadata": {
        "id": "3K_iPg3FuojB",
        "colab_type": "code",
        "colab": {}
      },
      "source": [
        "# Please comment your code"
      ],
      "execution_count": 0,
      "outputs": []
    },
    {
      "cell_type": "markdown",
      "metadata": {
        "id": "InkaP1GTupgP",
        "colab_type": "text"
      },
      "source": [
        "### Second evaluation "
      ]
    },
    {
      "cell_type": "code",
      "metadata": {
        "id": "eiVmuofAutO2",
        "colab_type": "code",
        "colab": {}
      },
      "source": [
        "# Please comment your code"
      ],
      "execution_count": 0,
      "outputs": []
    },
    {
      "cell_type": "markdown",
      "metadata": {
        "id": "BVB6M5-tmVZ6",
        "colab_type": "text"
      },
      "source": [
        "\n",
        "\n",
        "---\n",
        "\n",
        "\n",
        "# 3. Hierachical Clustering"
      ]
    },
    {
      "cell_type": "markdown",
      "metadata": {
        "id": "4e1rXjiou6Xg",
        "colab_type": "text"
      },
      "source": [
        "## 3.1 Travel Review Dataset"
      ]
    },
    {
      "cell_type": "code",
      "metadata": {
        "id": "yzSTBU2AmZub",
        "colab_type": "code",
        "colab": {}
      },
      "source": [
        "# import hierarchical clustering packages\n",
        "from sklearn.cluster import AgglomerativeClustering\n",
        "\n",
        "# import DBSCAN packages\n",
        "from sklearn.cluster import DBSCAN\n",
        "\n",
        "# import evaluation packages\n",
        "from sklearn.metrics import silhouette_score, silhouette_samples\n",
        "from sklearn.metrics import calinski_harabasz_score\n",
        "from sklearn.metrics import davies_bouldin_score\n",
        "\n",
        "# set parameters\n",
        "# using gridsearch methodology to handle our problems\n",
        "parameters_agglo = {\n",
        "    'n_clusters': [2,3,4,5,6,7,8,9,10],\n",
        "    'linkage': ['single', 'average', 'complete'],\n",
        "    'affinity': ['euclidean', 'manhattan', 'cosine', 'l1', 'l2']\n",
        "}\n",
        "\n",
        "parameters_dbscan = {\n",
        "    'eps': [0.001, 0.01, 0.1, 0.5, 1, 5],\n",
        "    'min_samples': [3, 5, 8, 10],\n",
        "    'metric': ['euclidean', 'manhattan']\n",
        "}\n"
      ],
      "execution_count": 0,
      "outputs": []
    },
    {
      "cell_type": "markdown",
      "metadata": {
        "id": "WA2dlrzoK8lU",
        "colab_type": "text"
      },
      "source": [
        ""
      ]
    },
    {
      "cell_type": "code",
      "metadata": {
        "id": "3yXxBNo-UpWd",
        "colab_type": "code",
        "colab": {
          "base_uri": "https://localhost:8080/",
          "height": 34
        },
        "outputId": "1b5c23e1-bb74-485c-aca2-dfbe0eef55ee"
      },
      "source": [
        "# initiate our new-written gridsearch class using silhouette_score\n",
        "gridsearch_model = GridSearch(\n",
        "    'DBSCAN', \n",
        "    parameters_dbscan,\n",
        "    'silhouette_score')\n",
        "\n",
        "# fit with Travel Advisor dataset\n",
        "gridsearch_model.fit(TA_data)"
      ],
      "execution_count": 125,
      "outputs": [
        {
          "output_type": "execute_result",
          "data": {
            "text/plain": [
              "'Grid Search Completed. Plase use get_results() to get best param combination.'"
            ]
          },
          "metadata": {
            "tags": []
          },
          "execution_count": 125
        }
      ]
    },
    {
      "cell_type": "code",
      "metadata": {
        "id": "avUc_hFeUwLi",
        "colab_type": "code",
        "colab": {
          "base_uri": "https://localhost:8080/",
          "height": 102
        },
        "outputId": "1d02d991-75fa-4810-cd6b-3823a94daf94"
      },
      "source": [
        "gridsearch_model.get_best_param()"
      ],
      "execution_count": 126,
      "outputs": [
        {
          "output_type": "execute_result",
          "data": {
            "text/plain": [
              "{'eps': 0.001,\n",
              " 'metric': 'euclidean',\n",
              " 'min_samples': 3,\n",
              " 'score': 0.27931282832051946,\n",
              " 'score_type': 'silhouette_score'}"
            ]
          },
          "metadata": {
            "tags": []
          },
          "execution_count": 126
        }
      ]
    },
    {
      "cell_type": "code",
      "metadata": {
        "id": "d_bcJuqIU6cu",
        "colab_type": "code",
        "colab": {
          "base_uri": "https://localhost:8080/",
          "height": 272
        },
        "outputId": "f766ec75-b651-45db-eb15-0dfea9e6a518"
      },
      "source": [
        "gridsearch_model.get_results()[:3]"
      ],
      "execution_count": 122,
      "outputs": [
        {
          "output_type": "execute_result",
          "data": {
            "text/plain": [
              "[{'eps': 0.01,\n",
              "  'metric': 'euclidean',\n",
              "  'min_samples': 3,\n",
              "  'score': 0.27931282832051946,\n",
              "  'score_type': 'silhouette_score'},\n",
              " {'eps': 0.01,\n",
              "  'metric': 'euclidean',\n",
              "  'min_samples': 5,\n",
              "  'score': 0.27931282832051946,\n",
              "  'score_type': 'silhouette_score'},\n",
              " {'eps': 0.01,\n",
              "  'metric': 'euclidean',\n",
              "  'min_samples': 8,\n",
              "  'score': 0.27931282832051946,\n",
              "  'score_type': 'silhouette_score'}]"
            ]
          },
          "metadata": {
            "tags": []
          },
          "execution_count": 122
        }
      ]
    },
    {
      "cell_type": "markdown",
      "metadata": {
        "id": "IQLG2cHGKT8v",
        "colab_type": "text"
      },
      "source": [
        "Silhouette Score"
      ]
    },
    {
      "cell_type": "code",
      "metadata": {
        "id": "htpIKKw--CRM",
        "colab_type": "code",
        "colab": {
          "base_uri": "https://localhost:8080/",
          "height": 34
        },
        "outputId": "d39a0700-74c3-4f0c-9e8a-befc887ba34b"
      },
      "source": [
        "# initiate our new-written gridsearch class using silhouette_score\n",
        "gridsearch_model = GridSearch(\n",
        "    'AgglomerativeClustering', \n",
        "    parameters_agglo,\n",
        "    'silhouette_score')\n",
        "\n",
        "# fit with Travel Advisor dataset\n",
        "gridsearch_model.fit(TA_data)"
      ],
      "execution_count": 112,
      "outputs": [
        {
          "output_type": "execute_result",
          "data": {
            "text/plain": [
              "'Grid Search Completed. Plase use get_results() to get best param combination.'"
            ]
          },
          "metadata": {
            "tags": []
          },
          "execution_count": 112
        }
      ]
    },
    {
      "cell_type": "code",
      "metadata": {
        "id": "Iyh2VSlXDv-Y",
        "colab_type": "code",
        "colab": {
          "base_uri": "https://localhost:8080/",
          "height": 102
        },
        "outputId": "e1ea00f0-7892-4af5-e9b4-9f64a1421847"
      },
      "source": [
        "# get the best param combination\n",
        "gridsearch_model.get_best_param()"
      ],
      "execution_count": 103,
      "outputs": [
        {
          "output_type": "execute_result",
          "data": {
            "text/plain": [
              "{'affinity': 'cosine',\n",
              " 'linkage': 'average',\n",
              " 'n_clusters': 2,\n",
              " 'score': 0.5775644930103881,\n",
              " 'score_type': 'silhouette_score'}"
            ]
          },
          "metadata": {
            "tags": []
          },
          "execution_count": 103
        }
      ]
    },
    {
      "cell_type": "code",
      "metadata": {
        "id": "aWbX2nBLDAFi",
        "colab_type": "code",
        "colab": {
          "base_uri": "https://localhost:8080/",
          "height": 442
        },
        "outputId": "22866cd9-a28f-443d-992c-abb98f2c0d87"
      },
      "source": [
        "# get the best five param combinations\n",
        "gridsearch_model.get_results()[:5]"
      ],
      "execution_count": 93,
      "outputs": [
        {
          "output_type": "execute_result",
          "data": {
            "text/plain": [
              "[{'affinity': 'cosine',\n",
              "  'linkage': 'average',\n",
              "  'n_clusters': 2,\n",
              "  'score': 0.5775644930103881,\n",
              "  'score_type': 'silhouette_score'},\n",
              " {'affinity': 'cosine',\n",
              "  'linkage': 'single',\n",
              "  'n_clusters': 2,\n",
              "  'score': 0.5752171853778129,\n",
              "  'score_type': 'silhouette_score'},\n",
              " {'affinity': 'manhattan',\n",
              "  'linkage': 'average',\n",
              "  'n_clusters': 2,\n",
              "  'score': 0.4243376453558286,\n",
              "  'score_type': 'silhouette_score'},\n",
              " {'affinity': 'l1',\n",
              "  'linkage': 'average',\n",
              "  'n_clusters': 2,\n",
              "  'score': 0.4243376453558286,\n",
              "  'score_type': 'silhouette_score'},\n",
              " {'affinity': 'euclidean',\n",
              "  'linkage': 'single',\n",
              "  'n_clusters': 2,\n",
              "  'score': 0.41066869525048516,\n",
              "  'score_type': 'silhouette_score'}]"
            ]
          },
          "metadata": {
            "tags": []
          },
          "execution_count": 93
        }
      ]
    },
    {
      "cell_type": "markdown",
      "metadata": {
        "id": "2Nqm8X7wKX4C",
        "colab_type": "text"
      },
      "source": [
        "Calinski-harabasz Score"
      ]
    },
    {
      "cell_type": "code",
      "metadata": {
        "id": "KyZVoZ4eHdUd",
        "colab_type": "code",
        "colab": {
          "base_uri": "https://localhost:8080/",
          "height": 34
        },
        "outputId": "4b038c13-fca8-4ae0-e45a-c717fad1a02e"
      },
      "source": [
        "# initiate our new-written gridsearch class using Calinski-harabasz Score\n",
        "gridsearch_model = GridSearch(\n",
        "    'AgglomerativeClustering', \n",
        "    parameters_agglo,\n",
        "    'calinski_harabasz_score')\n",
        "\n",
        "# fit with Travel Advisor dataset\n",
        "gridsearch_model.fit(TA_data)"
      ],
      "execution_count": 113,
      "outputs": [
        {
          "output_type": "execute_result",
          "data": {
            "text/plain": [
              "'Grid Search Completed. Plase use get_results() to get best param combination.'"
            ]
          },
          "metadata": {
            "tags": []
          },
          "execution_count": 113
        }
      ]
    },
    {
      "cell_type": "code",
      "metadata": {
        "id": "IlyVM15jH1yf",
        "colab_type": "code",
        "colab": {
          "base_uri": "https://localhost:8080/",
          "height": 102
        },
        "outputId": "61ec23d8-1521-4265-ccd6-1ca17a1cbef1"
      },
      "source": [
        "gridsearch_model.get_best_param()"
      ],
      "execution_count": 85,
      "outputs": [
        {
          "output_type": "execute_result",
          "data": {
            "text/plain": [
              "{'affinity': 'euclidean',\n",
              " 'linkage': 'complete',\n",
              " 'n_clusters': 2,\n",
              " 'score': 372.0011509667208,\n",
              " 'score_type': 'calinski_harabasz_score'}"
            ]
          },
          "metadata": {
            "tags": []
          },
          "execution_count": 85
        }
      ]
    },
    {
      "cell_type": "code",
      "metadata": {
        "id": "vOy5o-CGH43C",
        "colab_type": "code",
        "colab": {
          "base_uri": "https://localhost:8080/",
          "height": 442
        },
        "outputId": "2beb34ed-7ce2-423a-c098-f224d4bd6a72"
      },
      "source": [
        "gridsearch_model.get_results()[:5]"
      ],
      "execution_count": 88,
      "outputs": [
        {
          "output_type": "execute_result",
          "data": {
            "text/plain": [
              "[{'affinity': 'euclidean',\n",
              "  'linkage': 'complete',\n",
              "  'n_clusters': 2,\n",
              "  'score': 372.0011509667208,\n",
              "  'score_type': 'calinski_harabasz_score'},\n",
              " {'affinity': 'l2',\n",
              "  'linkage': 'complete',\n",
              "  'n_clusters': 2,\n",
              "  'score': 372.0011509667208,\n",
              "  'score_type': 'calinski_harabasz_score'},\n",
              " {'affinity': 'manhattan',\n",
              "  'linkage': 'complete',\n",
              "  'n_clusters': 2,\n",
              "  'score': 136.82030431288362,\n",
              "  'score_type': 'calinski_harabasz_score'},\n",
              " {'affinity': 'l1',\n",
              "  'linkage': 'complete',\n",
              "  'n_clusters': 2,\n",
              "  'score': 136.82030431288362,\n",
              "  'score_type': 'calinski_harabasz_score'},\n",
              " {'affinity': 'cosine',\n",
              "  'linkage': 'complete',\n",
              "  'n_clusters': 2,\n",
              "  'score': 93.24316302799272,\n",
              "  'score_type': 'calinski_harabasz_score'}]"
            ]
          },
          "metadata": {
            "tags": []
          },
          "execution_count": 88
        }
      ]
    },
    {
      "cell_type": "markdown",
      "metadata": {
        "id": "YmXi8W2HL9eY",
        "colab_type": "text"
      },
      "source": [
        "Davies-Bouldin Score"
      ]
    },
    {
      "cell_type": "code",
      "metadata": {
        "id": "mhE56NsYLsG9",
        "colab_type": "code",
        "colab": {
          "base_uri": "https://localhost:8080/",
          "height": 34
        },
        "outputId": "a7b819c4-d8f8-44ed-e2f4-cf84a6b80cf2"
      },
      "source": [
        "# initiate our new-written gridsearch class using Davies-Bouldin Score\n",
        "gridsearch_model = GridSearch(\n",
        "    'AgglomerativeClustering', \n",
        "    parameters_agglo,\n",
        "    'davies_bouldin_score')\n",
        "\n",
        "# fit with Travel Advisor dataset\n",
        "gridsearch_model.fit(TA_data)"
      ],
      "execution_count": 114,
      "outputs": [
        {
          "output_type": "execute_result",
          "data": {
            "text/plain": [
              "'Grid Search Completed. Plase use get_results() to get best param combination.'"
            ]
          },
          "metadata": {
            "tags": []
          },
          "execution_count": 114
        }
      ]
    },
    {
      "cell_type": "code",
      "metadata": {
        "id": "ob4zWNTpKe9w",
        "colab_type": "code",
        "colab": {
          "base_uri": "https://localhost:8080/",
          "height": 102
        },
        "outputId": "d529feb5-89e7-4f90-faa3-b48a41f9b9de"
      },
      "source": [
        "gridsearch_model.get_best_param()"
      ],
      "execution_count": 95,
      "outputs": [
        {
          "output_type": "execute_result",
          "data": {
            "text/plain": [
              "{'affinity': 'manhattan',\n",
              " 'linkage': 'complete',\n",
              " 'n_clusters': 2,\n",
              " 'score': 2.2954166608459006,\n",
              " 'score_type': 'davies_bouldin_score'}"
            ]
          },
          "metadata": {
            "tags": []
          },
          "execution_count": 95
        }
      ]
    },
    {
      "cell_type": "code",
      "metadata": {
        "id": "B6OlsJwvMYxd",
        "colab_type": "code",
        "colab": {
          "base_uri": "https://localhost:8080/",
          "height": 272
        },
        "outputId": "102bd4e2-5c16-4e77-8704-ed12b3eceea8"
      },
      "source": [
        "gridsearch_model.get_results()[:3]"
      ],
      "execution_count": 97,
      "outputs": [
        {
          "output_type": "execute_result",
          "data": {
            "text/plain": [
              "[{'affinity': 'manhattan',\n",
              "  'linkage': 'complete',\n",
              "  'n_clusters': 2,\n",
              "  'score': 2.2954166608459006,\n",
              "  'score_type': 'davies_bouldin_score'},\n",
              " {'affinity': 'l1',\n",
              "  'linkage': 'complete',\n",
              "  'n_clusters': 2,\n",
              "  'score': 2.2954166608459006,\n",
              "  'score_type': 'davies_bouldin_score'},\n",
              " {'affinity': 'cosine',\n",
              "  'linkage': 'complete',\n",
              "  'n_clusters': 2,\n",
              "  'score': 1.9087391285534911,\n",
              "  'score_type': 'davies_bouldin_score'}]"
            ]
          },
          "metadata": {
            "tags": []
          },
          "execution_count": 97
        }
      ]
    },
    {
      "cell_type": "markdown",
      "metadata": {
        "id": "KhFiPJbuy75e",
        "colab_type": "text"
      },
      "source": [
        "What if we use demension reduction?"
      ]
    },
    {
      "cell_type": "code",
      "metadata": {
        "id": "wrs-U_5ozEIR",
        "colab_type": "code",
        "colab": {}
      },
      "source": [
        ""
      ],
      "execution_count": 0,
      "outputs": []
    },
    {
      "cell_type": "code",
      "metadata": {
        "id": "mUNAyyN8ytAB",
        "colab_type": "code",
        "colab": {}
      },
      "source": [
        ""
      ],
      "execution_count": 0,
      "outputs": []
    },
    {
      "cell_type": "markdown",
      "metadata": {
        "id": "VltnIWtBmqID",
        "colab_type": "text"
      },
      "source": [
        "## 3.2 ICMLA Dataset"
      ]
    },
    {
      "cell_type": "markdown",
      "metadata": {
        "id": "fcVNl0dOvUsq",
        "colab_type": "text"
      },
      "source": [
        "### Train Hierarchical clustering "
      ]
    },
    {
      "cell_type": "code",
      "metadata": {
        "id": "tCcBxQaGvYgO",
        "colab_type": "code",
        "colab": {}
      },
      "source": [
        "# Please comment your code"
      ],
      "execution_count": 0,
      "outputs": []
    },
    {
      "cell_type": "markdown",
      "metadata": {
        "id": "8b6JvPUfm4Q-",
        "colab_type": "text"
      },
      "source": [
        "### First evaluation"
      ]
    },
    {
      "cell_type": "code",
      "metadata": {
        "id": "2cHAWRxnmpkv",
        "colab_type": "code",
        "colab": {}
      },
      "source": [
        "# Please comment your code"
      ],
      "execution_count": 0,
      "outputs": []
    },
    {
      "cell_type": "markdown",
      "metadata": {
        "id": "jxhZGBnSm98d",
        "colab_type": "text"
      },
      "source": [
        "### Second evalaution "
      ]
    },
    {
      "cell_type": "code",
      "metadata": {
        "id": "JcAih_gRnAkV",
        "colab_type": "code",
        "colab": {}
      },
      "source": [
        "# Please comment your code"
      ],
      "execution_count": 0,
      "outputs": []
    },
    {
      "cell_type": "markdown",
      "metadata": {
        "id": "do-r947ZnGTQ",
        "colab_type": "text"
      },
      "source": [
        "\n",
        "\n",
        "---\n",
        "\n",
        "\n",
        "# 4. DBSCAN Clustering"
      ]
    },
    {
      "cell_type": "markdown",
      "metadata": {
        "id": "QxvlRqgovlC7",
        "colab_type": "text"
      },
      "source": [
        "## 4.1 Travel Review Dataset"
      ]
    },
    {
      "cell_type": "markdown",
      "metadata": {
        "id": "2rJ2wmllvrmR",
        "colab_type": "text"
      },
      "source": [
        "### Train DBSCAN clustering "
      ]
    },
    {
      "cell_type": "code",
      "metadata": {
        "id": "LPPIkUupnIqn",
        "colab_type": "code",
        "colab": {}
      },
      "source": [
        "# Please comment your code"
      ],
      "execution_count": 0,
      "outputs": []
    },
    {
      "cell_type": "markdown",
      "metadata": {
        "id": "KxeyDFICvw9b",
        "colab_type": "text"
      },
      "source": [
        "### First evaluation"
      ]
    },
    {
      "cell_type": "code",
      "metadata": {
        "id": "cvDrW9EmvzU_",
        "colab_type": "code",
        "colab": {}
      },
      "source": [
        "# Please comment your code"
      ],
      "execution_count": 0,
      "outputs": []
    },
    {
      "cell_type": "markdown",
      "metadata": {
        "id": "Bjhyvv9Qv0rP",
        "colab_type": "text"
      },
      "source": [
        "### Second evaluation "
      ]
    },
    {
      "cell_type": "code",
      "metadata": {
        "id": "CyVv54vYv3J8",
        "colab_type": "code",
        "colab": {}
      },
      "source": [
        "# Please comment your code"
      ],
      "execution_count": 0,
      "outputs": []
    },
    {
      "cell_type": "markdown",
      "metadata": {
        "id": "t-POjSqnv7gB",
        "colab_type": "text"
      },
      "source": [
        "## 4.2 ICMLA Dataset"
      ]
    },
    {
      "cell_type": "markdown",
      "metadata": {
        "id": "wKK7dFVhv-UX",
        "colab_type": "text"
      },
      "source": [
        "### Train DBSCAN clustering "
      ]
    },
    {
      "cell_type": "code",
      "metadata": {
        "id": "D6vsUuiQwAVL",
        "colab_type": "code",
        "colab": {}
      },
      "source": [
        "# Please comment your code"
      ],
      "execution_count": 0,
      "outputs": []
    },
    {
      "cell_type": "markdown",
      "metadata": {
        "id": "OrKT0eKewCgm",
        "colab_type": "text"
      },
      "source": [
        "### First evaluation "
      ]
    },
    {
      "cell_type": "code",
      "metadata": {
        "id": "fxy2Rsl6wBCM",
        "colab_type": "code",
        "colab": {}
      },
      "source": [
        "# Please comment your code"
      ],
      "execution_count": 0,
      "outputs": []
    },
    {
      "cell_type": "markdown",
      "metadata": {
        "id": "1joILa4LwFbs",
        "colab_type": "text"
      },
      "source": [
        "### Second evaluation "
      ]
    },
    {
      "cell_type": "code",
      "metadata": {
        "id": "n_QJ74S7wH7b",
        "colab_type": "code",
        "colab": {}
      },
      "source": [
        "# Please comment your code"
      ],
      "execution_count": 0,
      "outputs": []
    }
  ]
}