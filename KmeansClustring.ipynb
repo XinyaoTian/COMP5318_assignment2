{
  "nbformat": 4,
  "nbformat_minor": 0,
  "metadata": {
    "colab": {
      "name": "KmeansClustring.ipynb",
      "provenance": [],
      "authorship_tag": "ABX9TyNg5mD8+YAAXGVdF+apHSc1",
      "include_colab_link": true
    },
    "kernelspec": {
      "name": "python3",
      "display_name": "Python 3"
    }
  },
  "cells": [
    {
      "cell_type": "markdown",
      "metadata": {
        "id": "view-in-github",
        "colab_type": "text"
      },
      "source": [
        "<a href=\"https://colab.research.google.com/github/XinyaoTian/COMP5318_assignment2/blob/master/KmeansClustring.ipynb\" target=\"_parent\"><img src=\"https://colab.research.google.com/assets/colab-badge.svg\" alt=\"Open In Colab\"/></a>"
      ]
    },
    {
      "cell_type": "code",
      "metadata": {
        "id": "r_ZBLi14k__C",
        "colab_type": "code",
        "colab": {}
      },
      "source": [
        "# Environment setup\n",
        "# Import assignment-wide packages\n",
        "import sklearn\n",
        "import numpy as np\n",
        "import os\n",
        "import pandas as pd\n",
        "np.random.seed(42)\n",
        "\n",
        "from random import uniform\n",
        "\n",
        "%matplotlib inline\n",
        "import matplotlib as mpl\n",
        "import matplotlib.pyplot as plt\n",
        "mpl.rc('axes', labelsize=14)\n",
        "mpl.rc('xtick', labelsize=12)\n",
        "mpl.rc('ytick', labelsize=12)\n",
        "\n",
        "import warnings\n",
        "warnings.filterwarnings(action=\"ignore\", message=\"^internal gelsd\")\n",
        "\n",
        "\n",
        "\n",
        "\n"
      ],
      "execution_count": 0,
      "outputs": []
    },
    {
      "cell_type": "code",
      "metadata": {
        "id": "d-J55xVllHZv",
        "colab_type": "code",
        "colab": {
          "base_uri": "https://localhost:8080/",
          "height": 204
        },
        "outputId": "19fc535b-f08d-41be-a7f3-876b24dafbd2"
      },
      "source": [
        "# Load TripAdviosr dataset from its original source\n",
        "TA_data = pd.read_csv(\"https://archive.ics.uci.edu/ml/machine-learning-databases/00484/tripadvisor_review.csv\", sep=',', encoding=\"utf-8\")\n",
        "\n",
        "# It's obviously that 'User ID' is not meaningful when clustering\n",
        "# So we delete that column\n",
        "TA_data = TA_data.drop('User ID', 1)\n",
        "\n",
        "# Have a brief view\n",
        "TA_data.head()"
      ],
      "execution_count": 2,
      "outputs": [
        {
          "output_type": "execute_result",
          "data": {
            "text/html": [
              "<div>\n",
              "<style scoped>\n",
              "    .dataframe tbody tr th:only-of-type {\n",
              "        vertical-align: middle;\n",
              "    }\n",
              "\n",
              "    .dataframe tbody tr th {\n",
              "        vertical-align: top;\n",
              "    }\n",
              "\n",
              "    .dataframe thead th {\n",
              "        text-align: right;\n",
              "    }\n",
              "</style>\n",
              "<table border=\"1\" class=\"dataframe\">\n",
              "  <thead>\n",
              "    <tr style=\"text-align: right;\">\n",
              "      <th></th>\n",
              "      <th>Category 1</th>\n",
              "      <th>Category 2</th>\n",
              "      <th>Category 3</th>\n",
              "      <th>Category 4</th>\n",
              "      <th>Category 5</th>\n",
              "      <th>Category 6</th>\n",
              "      <th>Category 7</th>\n",
              "      <th>Category 8</th>\n",
              "      <th>Category 9</th>\n",
              "      <th>Category 10</th>\n",
              "    </tr>\n",
              "  </thead>\n",
              "  <tbody>\n",
              "    <tr>\n",
              "      <th>0</th>\n",
              "      <td>0.93</td>\n",
              "      <td>1.8</td>\n",
              "      <td>2.29</td>\n",
              "      <td>0.62</td>\n",
              "      <td>0.80</td>\n",
              "      <td>2.42</td>\n",
              "      <td>3.19</td>\n",
              "      <td>2.79</td>\n",
              "      <td>1.82</td>\n",
              "      <td>2.42</td>\n",
              "    </tr>\n",
              "    <tr>\n",
              "      <th>1</th>\n",
              "      <td>1.02</td>\n",
              "      <td>2.2</td>\n",
              "      <td>2.66</td>\n",
              "      <td>0.64</td>\n",
              "      <td>1.42</td>\n",
              "      <td>3.18</td>\n",
              "      <td>3.21</td>\n",
              "      <td>2.63</td>\n",
              "      <td>1.86</td>\n",
              "      <td>2.32</td>\n",
              "    </tr>\n",
              "    <tr>\n",
              "      <th>2</th>\n",
              "      <td>1.22</td>\n",
              "      <td>0.8</td>\n",
              "      <td>0.54</td>\n",
              "      <td>0.53</td>\n",
              "      <td>0.24</td>\n",
              "      <td>1.54</td>\n",
              "      <td>3.18</td>\n",
              "      <td>2.80</td>\n",
              "      <td>1.31</td>\n",
              "      <td>2.50</td>\n",
              "    </tr>\n",
              "    <tr>\n",
              "      <th>3</th>\n",
              "      <td>0.45</td>\n",
              "      <td>1.8</td>\n",
              "      <td>0.29</td>\n",
              "      <td>0.57</td>\n",
              "      <td>0.46</td>\n",
              "      <td>1.52</td>\n",
              "      <td>3.18</td>\n",
              "      <td>2.96</td>\n",
              "      <td>1.57</td>\n",
              "      <td>2.86</td>\n",
              "    </tr>\n",
              "    <tr>\n",
              "      <th>4</th>\n",
              "      <td>0.51</td>\n",
              "      <td>1.2</td>\n",
              "      <td>1.18</td>\n",
              "      <td>0.57</td>\n",
              "      <td>1.54</td>\n",
              "      <td>2.02</td>\n",
              "      <td>3.18</td>\n",
              "      <td>2.78</td>\n",
              "      <td>1.18</td>\n",
              "      <td>2.54</td>\n",
              "    </tr>\n",
              "  </tbody>\n",
              "</table>\n",
              "</div>"
            ],
            "text/plain": [
              "   Category 1  Category 2  Category 3  ...  Category 8  Category 9  Category 10\n",
              "0        0.93         1.8        2.29  ...        2.79        1.82         2.42\n",
              "1        1.02         2.2        2.66  ...        2.63        1.86         2.32\n",
              "2        1.22         0.8        0.54  ...        2.80        1.31         2.50\n",
              "3        0.45         1.8        0.29  ...        2.96        1.57         2.86\n",
              "4        0.51         1.2        1.18  ...        2.78        1.18         2.54\n",
              "\n",
              "[5 rows x 10 columns]"
            ]
          },
          "metadata": {
            "tags": []
          },
          "execution_count": 2
        }
      ]
    },
    {
      "cell_type": "code",
      "metadata": {
        "id": "TbvpGYR_lSTd",
        "colab_type": "code",
        "colab": {
          "base_uri": "https://localhost:8080/",
          "height": 142
        },
        "outputId": "33680bc1-88d9-4e2f-a45a-9abed24b23b8"
      },
      "source": [
        "class KMeansClustering():\n",
        "\n",
        "  def __init__(self, Data, k_numbers=1, similarity='euclidean'):\n",
        "    self.Data = Data\n",
        "    self.k = k_numbers\n",
        "    self.similarity = similarity\n",
        "    self.centroids = None\n",
        "    self.DataDistributed = None\n",
        "  \n",
        "\n",
        "  # initate k numbers of centroids\n",
        "  def generate_initial_centroids(self):\n",
        "    # automatically generate initial centroids\n",
        "    i = 0\n",
        "    centroids = list()\n",
        "    while(i < self.k):\n",
        "      centroid = dict()\n",
        "      for column in self.Data.columns:\n",
        "        # randomly generate a value in the range of column\n",
        "        centroid[column] = float(\"{:.4f}\".format(uniform(self.Data[column].min(0), self.Data[column].max(0))))\n",
        "      centroids.append(centroid)\n",
        "      i += 1\n",
        "    # after generating centroids\n",
        "    self.centroids = centroids\n",
        "    return pd.DataFrame(centroids)\n",
        "\n",
        "\n",
        "    # assign points to a cluster located by a centroid\n",
        "    def assign_points(self):\n",
        "      # iteration of rows in dataset\n",
        "      for index, row in self.Data.iterrows():\n",
        "        #\n",
        "  \n",
        "    \n",
        "\n",
        "  \n",
        "\n",
        "\n",
        "kmeans = KMeansClustering(TA_data, k_numbers=3)\n",
        "kmeans.generate_initial_centroids()\n"
      ],
      "execution_count": 38,
      "outputs": [
        {
          "output_type": "execute_result",
          "data": {
            "text/html": [
              "<div>\n",
              "<style scoped>\n",
              "    .dataframe tbody tr th:only-of-type {\n",
              "        vertical-align: middle;\n",
              "    }\n",
              "\n",
              "    .dataframe tbody tr th {\n",
              "        vertical-align: top;\n",
              "    }\n",
              "\n",
              "    .dataframe thead th {\n",
              "        text-align: right;\n",
              "    }\n",
              "</style>\n",
              "<table border=\"1\" class=\"dataframe\">\n",
              "  <thead>\n",
              "    <tr style=\"text-align: right;\">\n",
              "      <th></th>\n",
              "      <th>Category 1</th>\n",
              "      <th>Category 2</th>\n",
              "      <th>Category 3</th>\n",
              "      <th>Category 4</th>\n",
              "      <th>Category 5</th>\n",
              "      <th>Category 6</th>\n",
              "      <th>Category 7</th>\n",
              "      <th>Category 8</th>\n",
              "      <th>Category 9</th>\n",
              "      <th>Category 10</th>\n",
              "    </tr>\n",
              "  </thead>\n",
              "  <tbody>\n",
              "    <tr>\n",
              "      <th>0</th>\n",
              "      <td>2.8108</td>\n",
              "      <td>3.0802</td>\n",
              "      <td>3.2878</td>\n",
              "      <td>0.9933</td>\n",
              "      <td>2.7624</td>\n",
              "      <td>3.6675</td>\n",
              "      <td>3.2095</td>\n",
              "      <td>2.9239</td>\n",
              "      <td>1.5713</td>\n",
              "      <td>2.3661</td>\n",
              "    </tr>\n",
              "    <tr>\n",
              "      <th>1</th>\n",
              "      <td>2.3905</td>\n",
              "      <td>0.3712</td>\n",
              "      <td>2.4838</td>\n",
              "      <td>3.3181</td>\n",
              "      <td>1.7442</td>\n",
              "      <td>3.4516</td>\n",
              "      <td>3.1789</td>\n",
              "      <td>2.6349</td>\n",
              "      <td>2.4812</td>\n",
              "      <td>2.9208</td>\n",
              "    </tr>\n",
              "    <tr>\n",
              "      <th>2</th>\n",
              "      <td>1.6635</td>\n",
              "      <td>2.8763</td>\n",
              "      <td>3.3073</td>\n",
              "      <td>1.7158</td>\n",
              "      <td>1.6248</td>\n",
              "      <td>2.0720</td>\n",
              "      <td>3.2000</td>\n",
              "      <td>3.3605</td>\n",
              "      <td>2.3931</td>\n",
              "      <td>3.1017</td>\n",
              "    </tr>\n",
              "  </tbody>\n",
              "</table>\n",
              "</div>"
            ],
            "text/plain": [
              "   Category 1  Category 2  Category 3  ...  Category 8  Category 9  Category 10\n",
              "0      2.8108      3.0802      3.2878  ...      2.9239      1.5713       2.3661\n",
              "1      2.3905      0.3712      2.4838  ...      2.6349      2.4812       2.9208\n",
              "2      1.6635      2.8763      3.3073  ...      3.3605      2.3931       3.1017\n",
              "\n",
              "[3 rows x 10 columns]"
            ]
          },
          "metadata": {
            "tags": []
          },
          "execution_count": 38
        }
      ]
    },
    {
      "cell_type": "code",
      "metadata": {
        "id": "5elUhal1mchF",
        "colab_type": "code",
        "colab": {
          "base_uri": "https://localhost:8080/",
          "height": 34
        },
        "outputId": "bb2ee817-48b4-4ec3-adf1-974923ec2aa8"
      },
      "source": [
        "class KMeansClustering():\n",
        "\n",
        "  def __init__(self, Data, k_numbers=1, similarity='euclidean'):\n",
        "    self.Data = Data\n",
        "    self.k_numbers = k_numbers\n",
        "    self.similarity = similarity\n",
        "  \n",
        "  def generate_initial_centroids(self):\n",
        "    print(self.Data['Category 1'].max(0))\n",
        "    \n",
        "\n",
        "  \n",
        "\n",
        "\n",
        "kmeans = KMeansClustering(TA_data)\n",
        "kmeans.generate_initial_centroids()"
      ],
      "execution_count": 21,
      "outputs": [
        {
          "output_type": "stream",
          "text": [
            "3.22\n"
          ],
          "name": "stdout"
        }
      ]
    },
    {
      "cell_type": "code",
      "metadata": {
        "id": "FIqRzAn8pm21",
        "colab_type": "code",
        "colab": {}
      },
      "source": [
        ""
      ],
      "execution_count": 0,
      "outputs": []
    }
  ]
}